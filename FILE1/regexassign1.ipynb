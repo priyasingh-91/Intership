{
 "cells": [
  {
   "cell_type": "code",
   "execution_count": 1,
   "id": "cece8d60",
   "metadata": {},
   "outputs": [],
   "source": [
    "import regex as re"
   ]
  },
  {
   "cell_type": "code",
   "execution_count": null,
   "id": "ed9169cf",
   "metadata": {},
   "outputs": [],
   "source": [
    "Question 1- Write a RegEx pattern in python program to check that a string contains only a certain set of characters (in this case a-z, A-Z and 0-9)."
   ]
  },
  {
   "cell_type": "code",
   "execution_count": null,
   "id": "badb42b0",
   "metadata": {},
   "outputs": [],
   "source": [
    "target_st='123alphabeTS'\n",
    "result=re.match(r'^[a-zA-Z0-9]+$',target_st)\n",
    "print(result)\n"
   ]
  },
  {
   "cell_type": "code",
   "execution_count": null,
   "id": "59988251",
   "metadata": {},
   "outputs": [],
   "source": [
    "Question 2- Write a RegEx pattern that matches a string that has an a followed by zero or more b's"
   ]
  },
  {
   "cell_type": "code",
   "execution_count": 38,
   "id": "ae1be511",
   "metadata": {},
   "outputs": [
    {
     "name": "stdout",
     "output_type": "stream",
     "text": [
      "['ab', 'abbb', 'a']\n"
     ]
    }
   ],
   "source": [
    "target_st='ab abbb a bbbb'\n",
    "pattern=r'ab*'\n",
    "result=re.findall(pattern,target_st)\n",
    "print(result)"
   ]
  },
  {
   "cell_type": "code",
   "execution_count": null,
   "id": "85b70ad7",
   "metadata": {},
   "outputs": [],
   "source": [
    "Question 3-  Write a RegEx pattern that matches a string that has an a followed by one or more b's\n"
   ]
  },
  {
   "cell_type": "code",
   "execution_count": 41,
   "id": "f6480335",
   "metadata": {},
   "outputs": [
    {
     "name": "stdout",
     "output_type": "stream",
     "text": [
      "['ab', 'abbb', 'abbbb']\n"
     ]
    }
   ],
   "source": [
    "target_st='ab abbb a abbbb'\n",
    "pattern=r'ab+'\n",
    "result=re.findall(pattern,target_st)\n",
    "print(result)"
   ]
  },
  {
   "cell_type": "code",
   "execution_count": null,
   "id": "4ea9bc2e",
   "metadata": {},
   "outputs": [],
   "source": [
    "Question 4- Write a RegEx pattern that matches a string that has an a followed by zero or one 'b'."
   ]
  },
  {
   "cell_type": "code",
   "execution_count": 43,
   "id": "8b0ba720",
   "metadata": {},
   "outputs": [
    {
     "name": "stdout",
     "output_type": "stream",
     "text": [
      "['ab', 'ab', 'a']\n"
     ]
    }
   ],
   "source": [
    "target_st='ab abbb a bbbb'\n",
    "pattern=r'ab?'\n",
    "result=re.findall(pattern,target_st)\n",
    "print(result)"
   ]
  },
  {
   "cell_type": "code",
   "execution_count": null,
   "id": "65380068",
   "metadata": {},
   "outputs": [],
   "source": [
    "Question 5- Write a RegEx pattern in python program that matches a string that has an a followed by three 'b'."
   ]
  },
  {
   "cell_type": "code",
   "execution_count": 48,
   "id": "25b30112",
   "metadata": {},
   "outputs": [
    {
     "name": "stdout",
     "output_type": "stream",
     "text": [
      "['abbb', 'abbb']\n"
     ]
    }
   ],
   "source": [
    "target_st='ab abbb a bbbb abbbb'\n",
    "pattern=r'ab{3}'\n",
    "result=re.findall(pattern,target_st)\n",
    "print(result)"
   ]
  },
  {
   "cell_type": "code",
   "execution_count": null,
   "id": "2b8e2e48",
   "metadata": {},
   "outputs": [],
   "source": [
    "Question 6- Write a RegEx pattern in python program that matches a string that has an a followed by two to three 'b'."
   ]
  },
  {
   "cell_type": "code",
   "execution_count": 50,
   "id": "0d0544a2",
   "metadata": {},
   "outputs": [
    {
     "name": "stdout",
     "output_type": "stream",
     "text": [
      "['abb', 'abbb', 'abbb']\n"
     ]
    }
   ],
   "source": [
    "target_st='abb abbb a bbbb abbbb'\n",
    "pattern=r'ab{2,3}'\n",
    "result=re.findall(pattern,target_st)\n",
    "print(result)"
   ]
  },
  {
   "cell_type": "code",
   "execution_count": null,
   "id": "4737aac8",
   "metadata": {},
   "outputs": [],
   "source": [
    "Question 7- Write a Python program that matches a string that has an 'a' followed by anything, ending in 'b'."
   ]
  },
  {
   "cell_type": "code",
   "execution_count": 54,
   "id": "a624b238",
   "metadata": {},
   "outputs": [
    {
     "name": "stdout",
     "output_type": "stream",
     "text": [
      "['a0000bb alkhjhfg5787bbb a_b bdgghgbbb accddbbbb agh_jhj_b']\n"
     ]
    }
   ],
   "source": [
    "target_st='a0000bb alkhjhfg5787bbb a_b bdgghgbbb accddbbbb agh_jhj_b'\n",
    "pattern=r'a.*b$'\n",
    "result=re.findall(pattern,target_st)\n",
    "print(result)"
   ]
  },
  {
   "cell_type": "code",
   "execution_count": null,
   "id": "921f4e34",
   "metadata": {},
   "outputs": [],
   "source": [
    "Question 8- Write a RegEx pattern in python program that matches a word at the beginning of a string."
   ]
  },
  {
   "cell_type": "code",
   "execution_count": 7,
   "id": "16ed4e95",
   "metadata": {},
   "outputs": [
    {
     "name": "stdout",
     "output_type": "stream",
     "text": [
      "<regex.Match object; span=(0, 5), match='virat'>\n"
     ]
    }
   ],
   "source": [
    "target_st='virat is one of best cricket player'\n",
    "result=re.match(r'\\w{5}',target_st)\n",
    "print(result)"
   ]
  },
  {
   "cell_type": "code",
   "execution_count": null,
   "id": "f893e836",
   "metadata": {},
   "outputs": [],
   "source": [
    "Question 9- Write a RegEx pattern in python program that matches a word at the end of a string."
   ]
  },
  {
   "cell_type": "code",
   "execution_count": 55,
   "id": "822ad4eb",
   "metadata": {},
   "outputs": [
    {
     "name": "stdout",
     "output_type": "stream",
     "text": [
      "['player']\n"
     ]
    }
   ],
   "source": [
    "target_st='virat is one of best cricket player'\n",
    "pattern=r'\\w+$'\n",
    "result=re.findall(pattern,target_st)\n",
    "print(result)"
   ]
  },
  {
   "cell_type": "code",
   "execution_count": null,
   "id": "696f63a1",
   "metadata": {},
   "outputs": [],
   "source": [
    "Question 10- Write a RegEx pattern in python program to find all words that are 4 digits long in a string.\n",
    "Sample text- '01 0132 231875 1458 301 2725.'\n",
    "Expected output- ['0132', '1458', '2725']"
   ]
  },
  {
   "cell_type": "code",
   "execution_count": 27,
   "id": "e2e7824d",
   "metadata": {},
   "outputs": [
    {
     "name": "stdout",
     "output_type": "stream",
     "text": [
      "['1234', '3425', '6758']\n"
     ]
    }
   ],
   "source": [
    "string1='01 1234 54678 3425 67865 78676777 6758'\n",
    "pattern=r'(\\b\\d{4}\\b)'\n",
    "result=re.findall(pattern,string1)\n",
    "print(result)"
   ]
  },
  {
   "cell_type": "code",
   "execution_count": null,
   "id": "aaa520cc",
   "metadata": {},
   "outputs": [],
   "source": []
  },
  {
   "cell_type": "code",
   "execution_count": null,
   "id": "78f06741",
   "metadata": {},
   "outputs": [],
   "source": []
  },
  {
   "cell_type": "code",
   "execution_count": null,
   "id": "9e491712",
   "metadata": {},
   "outputs": [],
   "source": [
    "- "
   ]
  },
  {
   "cell_type": "code",
   "execution_count": null,
   "id": "a20fa8d0",
   "metadata": {},
   "outputs": [],
   "source": []
  }
 ],
 "metadata": {
  "kernelspec": {
   "display_name": "Python 3 (ipykernel)",
   "language": "python",
   "name": "python3"
  },
  "language_info": {
   "codemirror_mode": {
    "name": "ipython",
    "version": 3
   },
   "file_extension": ".py",
   "mimetype": "text/x-python",
   "name": "python",
   "nbconvert_exporter": "python",
   "pygments_lexer": "ipython3",
   "version": "3.10.9"
  }
 },
 "nbformat": 4,
 "nbformat_minor": 5
}
