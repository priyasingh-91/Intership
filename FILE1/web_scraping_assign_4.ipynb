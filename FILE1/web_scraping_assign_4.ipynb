{
 "cells": [
  {
   "cell_type": "code",
   "execution_count": null,
   "id": "efd5ad76",
   "metadata": {},
   "outputs": [],
   "source": [
    "1. Scrape the details of most viewed videos on YouTube from Wikipedia. Url\n",
    "= https://en.wikipedia.org/wiki/List_of_most-viewed_YouTube_videos You need to find following details: A)\n",
    "Rank\n",
    "B) Name\n",
    "C) Artist\n",
    "D) Upload date\n",
    "E) Views"
   ]
  },
  {
   "cell_type": "code",
   "execution_count": 17,
   "id": "56f807fc",
   "metadata": {},
   "outputs": [
    {
     "name": "stdout",
     "output_type": "stream",
     "text": [
      "Rank: \"Baby Shark Dance\"[6], Name: Pinkfong Baby Shark - Kids' Songs & Stories, Artist: 13.78\n",
      "Rank: \"Despacito\"[9], Name: Luis Fonsi, Artist: 8.33\n",
      "Rank: \"Johny Johny Yes Papa\"[17], Name: LooLoo Kids - Nursery Rhymes and Children's Songs, Artist: 6.85\n",
      "Rank: \"Bath Song\"[18], Name: Cocomelon - Nursery Rhymes, Artist: 6.52\n",
      "Rank: \"Shape of You\"[19], Name: Ed Sheeran, Artist: 6.15\n",
      "Rank: \"See You Again\"[22], Name: Wiz Khalifa, Artist: 6.11\n",
      "Rank: \"Wheels on the Bus\"[27], Name: Cocomelon - Nursery Rhymes, Artist: 5.74\n",
      "Rank: \"Phonics Song with Two Words\"[28], Name: ChuChu TV Nursery Rhymes & Kids Songs, Artist: 5.59\n",
      "Rank: \"Uptown Funk\"[29], Name: Mark Ronson, Artist: 5.10\n",
      "Rank: \"Learning Colors – Colorful Eggs on a Farm\"[30], Name: Miroshka TV, Artist: 5.03\n",
      "Rank: \"Gangnam Style\"[31], Name: Psy, Artist: 4.98\n",
      "Rank: \"Masha and the Bear – Recipe for Disaster\"[36], Name: Get Movies, Artist: 4.57\n",
      "Rank: \"Dame Tu Cosita\"[37], Name: Ultra Records, Artist: 4.49\n",
      "Rank: \"Axel F\"[38], Name: Crazy Frog, Artist: 4.19\n",
      "Rank: \"Sugar\"[39], Name: Maroon 5, Artist: 3.97\n",
      "Rank: \"Counting Stars\"[40], Name: OneRepublic, Artist: 3.93\n",
      "Rank: \"Roar\"[41], Name: Katy Perry, Artist: 3.92\n",
      "Rank: \"Baa Baa Black Sheep\"[42], Name: Cocomelon - Nursery Rhymes, Artist: 3.86\n",
      "Rank: \"Waka Waka (This Time for Africa)\"[43], Name: Shakira, Artist: 3.80\n",
      "Rank: \"Lakdi Ki Kathi\"[44], Name: Jingle Toons, Artist: 3.78\n",
      "Rank: \"Sorry\"[45], Name: Justin Bieber, Artist: 3.74\n",
      "Rank: \"Thinking Out Loud\"[46], Name: Ed Sheeran, Artist: 3.70\n",
      "Rank: \"Humpty the train on a fruits ride\"[47], Name: Kiddiestv Hindi - Nursery Rhymes & Kids Songs, Artist: 3.65\n",
      "Rank: \"Dark Horse\"[48], Name: Katy Perry, Artist: 3.64\n",
      "Rank: \"Perfect\"[49], Name: Ed Sheeran, Artist: 3.61\n",
      "Rank: \"Shree Hanuman Chalisa\"[50], Name: T-Series Bhakti Sagar, Artist: 3.57\n",
      "Rank: \"Let Her Go\"[51], Name: Passenger, Artist: 3.57\n",
      "Rank: \"Faded\"[52], Name: Alan Walker, Artist: 3.56\n",
      "Rank: \"Girls Like You\"[53], Name: Maroon 5, Artist: 3.53\n",
      "Rank: \"Lean On\"[54], Name: Major Lazer Official, Artist: 3.51\n"
     ]
    }
   ],
   "source": []
  },
  {
   "cell_type": "code",
   "execution_count": null,
   "id": "ca741c90",
   "metadata": {},
   "outputs": [],
   "source": []
  },
  {
   "cell_type": "code",
   "execution_count": 2,
   "id": "43e3d355",
   "metadata": {},
   "outputs": [],
   "source": [
    "import selenium\n",
    "import pandas as pd\n",
    "from selenium import webdriver\n",
    "from selenium.webdriver.support import expected_conditions as EC\n",
    "from selenium.webdriver.support.ui import WebDriverWait\n",
    "from selenium.webdriver.common.keys import Keys\n",
    "from selenium.webdriver.chrome.service import Service\n",
    "from selenium.common.exceptions import StaleElementReferenceException, NoSuchElementException\n",
    "import warnings\n",
    "warnings.filterwarnings('ignore')\n",
    "from selenium.webdriver.common.by import By\n",
    "import time\n",
    "import re"
   ]
  },
  {
   "cell_type": "code",
   "execution_count": 22,
   "id": "942acf44",
   "metadata": {},
   "outputs": [],
   "source": [
    "driver=webdriver.Chrome()"
   ]
  },
  {
   "cell_type": "code",
   "execution_count": 23,
   "id": "444deab7",
   "metadata": {},
   "outputs": [],
   "source": [
    "video_url = ' https://en.wikipedia.org/wiki/List_of_most-viewed_YouTube_videos'  \n",
    "driver.get(video_url)"
   ]
  },
  {
   "cell_type": "code",
   "execution_count": 24,
   "id": "920ac2ec",
   "metadata": {},
   "outputs": [],
   "source": [
    "Rank_name=[]\n",
    "Artist=[]\n",
    "Upload_date=[]\n",
    "Views=[]\n"
   ]
  },
  {
   "cell_type": "code",
   "execution_count": 27,
   "id": "e573e1d6",
   "metadata": {},
   "outputs": [
    {
     "name": "stdout",
     "output_type": "stream",
     "text": [
      "1 ['\"Baby Shark Dance\"[6]']\n",
      "2 ['\"Baby Shark Dance\"[6]', '\"Despacito\"[9]']\n",
      "3 ['\"Baby Shark Dance\"[6]', '\"Despacito\"[9]', '\"Johny Johny Yes Papa\"[17]']\n",
      "4 ['\"Baby Shark Dance\"[6]', '\"Despacito\"[9]', '\"Johny Johny Yes Papa\"[17]', '\"Bath Song\"[18]']\n",
      "5 ['\"Baby Shark Dance\"[6]', '\"Despacito\"[9]', '\"Johny Johny Yes Papa\"[17]', '\"Bath Song\"[18]', '\"Shape of You\"[19]']\n",
      "6 ['\"Baby Shark Dance\"[6]', '\"Despacito\"[9]', '\"Johny Johny Yes Papa\"[17]', '\"Bath Song\"[18]', '\"Shape of You\"[19]', '\"See You Again\"[22]']\n",
      "7 ['\"Baby Shark Dance\"[6]', '\"Despacito\"[9]', '\"Johny Johny Yes Papa\"[17]', '\"Bath Song\"[18]', '\"Shape of You\"[19]', '\"See You Again\"[22]', '\"Wheels on the Bus\"[27]']\n",
      "8 ['\"Baby Shark Dance\"[6]', '\"Despacito\"[9]', '\"Johny Johny Yes Papa\"[17]', '\"Bath Song\"[18]', '\"Shape of You\"[19]', '\"See You Again\"[22]', '\"Wheels on the Bus\"[27]', '\"Phonics Song with Two Words\"[28]']\n",
      "9 ['\"Baby Shark Dance\"[6]', '\"Despacito\"[9]', '\"Johny Johny Yes Papa\"[17]', '\"Bath Song\"[18]', '\"Shape of You\"[19]', '\"See You Again\"[22]', '\"Wheels on the Bus\"[27]', '\"Phonics Song with Two Words\"[28]', '\"Uptown Funk\"[29]']\n",
      "10 ['\"Baby Shark Dance\"[6]', '\"Despacito\"[9]', '\"Johny Johny Yes Papa\"[17]', '\"Bath Song\"[18]', '\"Shape of You\"[19]', '\"See You Again\"[22]', '\"Wheels on the Bus\"[27]', '\"Phonics Song with Two Words\"[28]', '\"Uptown Funk\"[29]', '\"Learning Colors – Colorful Eggs on a Farm\"[30]']\n",
      "11 ['\"Baby Shark Dance\"[6]', '\"Despacito\"[9]', '\"Johny Johny Yes Papa\"[17]', '\"Bath Song\"[18]', '\"Shape of You\"[19]', '\"See You Again\"[22]', '\"Wheels on the Bus\"[27]', '\"Phonics Song with Two Words\"[28]', '\"Uptown Funk\"[29]', '\"Learning Colors – Colorful Eggs on a Farm\"[30]', '\"Gangnam Style\"[31]']\n",
      "12 ['\"Baby Shark Dance\"[6]', '\"Despacito\"[9]', '\"Johny Johny Yes Papa\"[17]', '\"Bath Song\"[18]', '\"Shape of You\"[19]', '\"See You Again\"[22]', '\"Wheels on the Bus\"[27]', '\"Phonics Song with Two Words\"[28]', '\"Uptown Funk\"[29]', '\"Learning Colors – Colorful Eggs on a Farm\"[30]', '\"Gangnam Style\"[31]', '\"Masha and the Bear – Recipe for Disaster\"[36]']\n",
      "13 ['\"Baby Shark Dance\"[6]', '\"Despacito\"[9]', '\"Johny Johny Yes Papa\"[17]', '\"Bath Song\"[18]', '\"Shape of You\"[19]', '\"See You Again\"[22]', '\"Wheels on the Bus\"[27]', '\"Phonics Song with Two Words\"[28]', '\"Uptown Funk\"[29]', '\"Learning Colors – Colorful Eggs on a Farm\"[30]', '\"Gangnam Style\"[31]', '\"Masha and the Bear – Recipe for Disaster\"[36]', '\"Dame Tu Cosita\"[37]']\n",
      "14 ['\"Baby Shark Dance\"[6]', '\"Despacito\"[9]', '\"Johny Johny Yes Papa\"[17]', '\"Bath Song\"[18]', '\"Shape of You\"[19]', '\"See You Again\"[22]', '\"Wheels on the Bus\"[27]', '\"Phonics Song with Two Words\"[28]', '\"Uptown Funk\"[29]', '\"Learning Colors – Colorful Eggs on a Farm\"[30]', '\"Gangnam Style\"[31]', '\"Masha and the Bear – Recipe for Disaster\"[36]', '\"Dame Tu Cosita\"[37]', '\"Axel F\"[38]']\n",
      "15 ['\"Baby Shark Dance\"[6]', '\"Despacito\"[9]', '\"Johny Johny Yes Papa\"[17]', '\"Bath Song\"[18]', '\"Shape of You\"[19]', '\"See You Again\"[22]', '\"Wheels on the Bus\"[27]', '\"Phonics Song with Two Words\"[28]', '\"Uptown Funk\"[29]', '\"Learning Colors – Colorful Eggs on a Farm\"[30]', '\"Gangnam Style\"[31]', '\"Masha and the Bear – Recipe for Disaster\"[36]', '\"Dame Tu Cosita\"[37]', '\"Axel F\"[38]', '\"Sugar\"[39]']\n",
      "16 ['\"Baby Shark Dance\"[6]', '\"Despacito\"[9]', '\"Johny Johny Yes Papa\"[17]', '\"Bath Song\"[18]', '\"Shape of You\"[19]', '\"See You Again\"[22]', '\"Wheels on the Bus\"[27]', '\"Phonics Song with Two Words\"[28]', '\"Uptown Funk\"[29]', '\"Learning Colors – Colorful Eggs on a Farm\"[30]', '\"Gangnam Style\"[31]', '\"Masha and the Bear – Recipe for Disaster\"[36]', '\"Dame Tu Cosita\"[37]', '\"Axel F\"[38]', '\"Sugar\"[39]', '\"Counting Stars\"[40]']\n",
      "17 ['\"Baby Shark Dance\"[6]', '\"Despacito\"[9]', '\"Johny Johny Yes Papa\"[17]', '\"Bath Song\"[18]', '\"Shape of You\"[19]', '\"See You Again\"[22]', '\"Wheels on the Bus\"[27]', '\"Phonics Song with Two Words\"[28]', '\"Uptown Funk\"[29]', '\"Learning Colors – Colorful Eggs on a Farm\"[30]', '\"Gangnam Style\"[31]', '\"Masha and the Bear – Recipe for Disaster\"[36]', '\"Dame Tu Cosita\"[37]', '\"Axel F\"[38]', '\"Sugar\"[39]', '\"Counting Stars\"[40]', '\"Roar\"[41]']\n",
      "18 ['\"Baby Shark Dance\"[6]', '\"Despacito\"[9]', '\"Johny Johny Yes Papa\"[17]', '\"Bath Song\"[18]', '\"Shape of You\"[19]', '\"See You Again\"[22]', '\"Wheels on the Bus\"[27]', '\"Phonics Song with Two Words\"[28]', '\"Uptown Funk\"[29]', '\"Learning Colors – Colorful Eggs on a Farm\"[30]', '\"Gangnam Style\"[31]', '\"Masha and the Bear – Recipe for Disaster\"[36]', '\"Dame Tu Cosita\"[37]', '\"Axel F\"[38]', '\"Sugar\"[39]', '\"Counting Stars\"[40]', '\"Roar\"[41]', '\"Baa Baa Black Sheep\"[42]']\n",
      "19 ['\"Baby Shark Dance\"[6]', '\"Despacito\"[9]', '\"Johny Johny Yes Papa\"[17]', '\"Bath Song\"[18]', '\"Shape of You\"[19]', '\"See You Again\"[22]', '\"Wheels on the Bus\"[27]', '\"Phonics Song with Two Words\"[28]', '\"Uptown Funk\"[29]', '\"Learning Colors – Colorful Eggs on a Farm\"[30]', '\"Gangnam Style\"[31]', '\"Masha and the Bear – Recipe for Disaster\"[36]', '\"Dame Tu Cosita\"[37]', '\"Axel F\"[38]', '\"Sugar\"[39]', '\"Counting Stars\"[40]', '\"Roar\"[41]', '\"Baa Baa Black Sheep\"[42]', '\"Waka Waka (This Time for Africa)\"[43]']\n",
      "20 ['\"Baby Shark Dance\"[6]', '\"Despacito\"[9]', '\"Johny Johny Yes Papa\"[17]', '\"Bath Song\"[18]', '\"Shape of You\"[19]', '\"See You Again\"[22]', '\"Wheels on the Bus\"[27]', '\"Phonics Song with Two Words\"[28]', '\"Uptown Funk\"[29]', '\"Learning Colors – Colorful Eggs on a Farm\"[30]', '\"Gangnam Style\"[31]', '\"Masha and the Bear – Recipe for Disaster\"[36]', '\"Dame Tu Cosita\"[37]', '\"Axel F\"[38]', '\"Sugar\"[39]', '\"Counting Stars\"[40]', '\"Roar\"[41]', '\"Baa Baa Black Sheep\"[42]', '\"Waka Waka (This Time for Africa)\"[43]', '\"Lakdi Ki Kathi\"[44]']\n",
      "21 ['\"Baby Shark Dance\"[6]', '\"Despacito\"[9]', '\"Johny Johny Yes Papa\"[17]', '\"Bath Song\"[18]', '\"Shape of You\"[19]', '\"See You Again\"[22]', '\"Wheels on the Bus\"[27]', '\"Phonics Song with Two Words\"[28]', '\"Uptown Funk\"[29]', '\"Learning Colors – Colorful Eggs on a Farm\"[30]', '\"Gangnam Style\"[31]', '\"Masha and the Bear – Recipe for Disaster\"[36]', '\"Dame Tu Cosita\"[37]', '\"Axel F\"[38]', '\"Sugar\"[39]', '\"Counting Stars\"[40]', '\"Roar\"[41]', '\"Baa Baa Black Sheep\"[42]', '\"Waka Waka (This Time for Africa)\"[43]', '\"Lakdi Ki Kathi\"[44]', '\"Sorry\"[45]']\n",
      "22 ['\"Baby Shark Dance\"[6]', '\"Despacito\"[9]', '\"Johny Johny Yes Papa\"[17]', '\"Bath Song\"[18]', '\"Shape of You\"[19]', '\"See You Again\"[22]', '\"Wheels on the Bus\"[27]', '\"Phonics Song with Two Words\"[28]', '\"Uptown Funk\"[29]', '\"Learning Colors – Colorful Eggs on a Farm\"[30]', '\"Gangnam Style\"[31]', '\"Masha and the Bear – Recipe for Disaster\"[36]', '\"Dame Tu Cosita\"[37]', '\"Axel F\"[38]', '\"Sugar\"[39]', '\"Counting Stars\"[40]', '\"Roar\"[41]', '\"Baa Baa Black Sheep\"[42]', '\"Waka Waka (This Time for Africa)\"[43]', '\"Lakdi Ki Kathi\"[44]', '\"Sorry\"[45]', '\"Thinking Out Loud\"[46]']\n",
      "23 ['\"Baby Shark Dance\"[6]', '\"Despacito\"[9]', '\"Johny Johny Yes Papa\"[17]', '\"Bath Song\"[18]', '\"Shape of You\"[19]', '\"See You Again\"[22]', '\"Wheels on the Bus\"[27]', '\"Phonics Song with Two Words\"[28]', '\"Uptown Funk\"[29]', '\"Learning Colors – Colorful Eggs on a Farm\"[30]', '\"Gangnam Style\"[31]', '\"Masha and the Bear – Recipe for Disaster\"[36]', '\"Dame Tu Cosita\"[37]', '\"Axel F\"[38]', '\"Sugar\"[39]', '\"Counting Stars\"[40]', '\"Roar\"[41]', '\"Baa Baa Black Sheep\"[42]', '\"Waka Waka (This Time for Africa)\"[43]', '\"Lakdi Ki Kathi\"[44]', '\"Sorry\"[45]', '\"Thinking Out Loud\"[46]', '\"Humpty the train on a fruits ride\"[47]']\n",
      "24 ['\"Baby Shark Dance\"[6]', '\"Despacito\"[9]', '\"Johny Johny Yes Papa\"[17]', '\"Bath Song\"[18]', '\"Shape of You\"[19]', '\"See You Again\"[22]', '\"Wheels on the Bus\"[27]', '\"Phonics Song with Two Words\"[28]', '\"Uptown Funk\"[29]', '\"Learning Colors – Colorful Eggs on a Farm\"[30]', '\"Gangnam Style\"[31]', '\"Masha and the Bear – Recipe for Disaster\"[36]', '\"Dame Tu Cosita\"[37]', '\"Axel F\"[38]', '\"Sugar\"[39]', '\"Counting Stars\"[40]', '\"Roar\"[41]', '\"Baa Baa Black Sheep\"[42]', '\"Waka Waka (This Time for Africa)\"[43]', '\"Lakdi Ki Kathi\"[44]', '\"Sorry\"[45]', '\"Thinking Out Loud\"[46]', '\"Humpty the train on a fruits ride\"[47]', '\"Dark Horse\"[48]']\n",
      "25 ['\"Baby Shark Dance\"[6]', '\"Despacito\"[9]', '\"Johny Johny Yes Papa\"[17]', '\"Bath Song\"[18]', '\"Shape of You\"[19]', '\"See You Again\"[22]', '\"Wheels on the Bus\"[27]', '\"Phonics Song with Two Words\"[28]', '\"Uptown Funk\"[29]', '\"Learning Colors – Colorful Eggs on a Farm\"[30]', '\"Gangnam Style\"[31]', '\"Masha and the Bear – Recipe for Disaster\"[36]', '\"Dame Tu Cosita\"[37]', '\"Axel F\"[38]', '\"Sugar\"[39]', '\"Counting Stars\"[40]', '\"Roar\"[41]', '\"Baa Baa Black Sheep\"[42]', '\"Waka Waka (This Time for Africa)\"[43]', '\"Lakdi Ki Kathi\"[44]', '\"Sorry\"[45]', '\"Thinking Out Loud\"[46]', '\"Humpty the train on a fruits ride\"[47]', '\"Dark Horse\"[48]', '\"Perfect\"[49]']\n",
      "26 ['\"Baby Shark Dance\"[6]', '\"Despacito\"[9]', '\"Johny Johny Yes Papa\"[17]', '\"Bath Song\"[18]', '\"Shape of You\"[19]', '\"See You Again\"[22]', '\"Wheels on the Bus\"[27]', '\"Phonics Song with Two Words\"[28]', '\"Uptown Funk\"[29]', '\"Learning Colors – Colorful Eggs on a Farm\"[30]', '\"Gangnam Style\"[31]', '\"Masha and the Bear – Recipe for Disaster\"[36]', '\"Dame Tu Cosita\"[37]', '\"Axel F\"[38]', '\"Sugar\"[39]', '\"Counting Stars\"[40]', '\"Roar\"[41]', '\"Baa Baa Black Sheep\"[42]', '\"Waka Waka (This Time for Africa)\"[43]', '\"Lakdi Ki Kathi\"[44]', '\"Sorry\"[45]', '\"Thinking Out Loud\"[46]', '\"Humpty the train on a fruits ride\"[47]', '\"Dark Horse\"[48]', '\"Perfect\"[49]', '\"Shree Hanuman Chalisa\"[50]']\n",
      "27 ['\"Baby Shark Dance\"[6]', '\"Despacito\"[9]', '\"Johny Johny Yes Papa\"[17]', '\"Bath Song\"[18]', '\"Shape of You\"[19]', '\"See You Again\"[22]', '\"Wheels on the Bus\"[27]', '\"Phonics Song with Two Words\"[28]', '\"Uptown Funk\"[29]', '\"Learning Colors – Colorful Eggs on a Farm\"[30]', '\"Gangnam Style\"[31]', '\"Masha and the Bear – Recipe for Disaster\"[36]', '\"Dame Tu Cosita\"[37]', '\"Axel F\"[38]', '\"Sugar\"[39]', '\"Counting Stars\"[40]', '\"Roar\"[41]', '\"Baa Baa Black Sheep\"[42]', '\"Waka Waka (This Time for Africa)\"[43]', '\"Lakdi Ki Kathi\"[44]', '\"Sorry\"[45]', '\"Thinking Out Loud\"[46]', '\"Humpty the train on a fruits ride\"[47]', '\"Dark Horse\"[48]', '\"Perfect\"[49]', '\"Shree Hanuman Chalisa\"[50]', '\"Let Her Go\"[51]']\n",
      "28 ['\"Baby Shark Dance\"[6]', '\"Despacito\"[9]', '\"Johny Johny Yes Papa\"[17]', '\"Bath Song\"[18]', '\"Shape of You\"[19]', '\"See You Again\"[22]', '\"Wheels on the Bus\"[27]', '\"Phonics Song with Two Words\"[28]', '\"Uptown Funk\"[29]', '\"Learning Colors – Colorful Eggs on a Farm\"[30]', '\"Gangnam Style\"[31]', '\"Masha and the Bear – Recipe for Disaster\"[36]', '\"Dame Tu Cosita\"[37]', '\"Axel F\"[38]', '\"Sugar\"[39]', '\"Counting Stars\"[40]', '\"Roar\"[41]', '\"Baa Baa Black Sheep\"[42]', '\"Waka Waka (This Time for Africa)\"[43]', '\"Lakdi Ki Kathi\"[44]', '\"Sorry\"[45]', '\"Thinking Out Loud\"[46]', '\"Humpty the train on a fruits ride\"[47]', '\"Dark Horse\"[48]', '\"Perfect\"[49]', '\"Shree Hanuman Chalisa\"[50]', '\"Let Her Go\"[51]', '\"Faded\"[52]']\n",
      "29 ['\"Baby Shark Dance\"[6]', '\"Despacito\"[9]', '\"Johny Johny Yes Papa\"[17]', '\"Bath Song\"[18]', '\"Shape of You\"[19]', '\"See You Again\"[22]', '\"Wheels on the Bus\"[27]', '\"Phonics Song with Two Words\"[28]', '\"Uptown Funk\"[29]', '\"Learning Colors – Colorful Eggs on a Farm\"[30]', '\"Gangnam Style\"[31]', '\"Masha and the Bear – Recipe for Disaster\"[36]', '\"Dame Tu Cosita\"[37]', '\"Axel F\"[38]', '\"Sugar\"[39]', '\"Counting Stars\"[40]', '\"Roar\"[41]', '\"Baa Baa Black Sheep\"[42]', '\"Waka Waka (This Time for Africa)\"[43]', '\"Lakdi Ki Kathi\"[44]', '\"Sorry\"[45]', '\"Thinking Out Loud\"[46]', '\"Humpty the train on a fruits ride\"[47]', '\"Dark Horse\"[48]', '\"Perfect\"[49]', '\"Shree Hanuman Chalisa\"[50]', '\"Let Her Go\"[51]', '\"Faded\"[52]', '\"Girls Like You\"[53]']\n",
      "30 ['\"Baby Shark Dance\"[6]', '\"Despacito\"[9]', '\"Johny Johny Yes Papa\"[17]', '\"Bath Song\"[18]', '\"Shape of You\"[19]', '\"See You Again\"[22]', '\"Wheels on the Bus\"[27]', '\"Phonics Song with Two Words\"[28]', '\"Uptown Funk\"[29]', '\"Learning Colors – Colorful Eggs on a Farm\"[30]', '\"Gangnam Style\"[31]', '\"Masha and the Bear – Recipe for Disaster\"[36]', '\"Dame Tu Cosita\"[37]', '\"Axel F\"[38]', '\"Sugar\"[39]', '\"Counting Stars\"[40]', '\"Roar\"[41]', '\"Baa Baa Black Sheep\"[42]', '\"Waka Waka (This Time for Africa)\"[43]', '\"Lakdi Ki Kathi\"[44]', '\"Sorry\"[45]', '\"Thinking Out Loud\"[46]', '\"Humpty the train on a fruits ride\"[47]', '\"Dark Horse\"[48]', '\"Perfect\"[49]', '\"Shree Hanuman Chalisa\"[50]', '\"Let Her Go\"[51]', '\"Faded\"[52]', '\"Girls Like You\"[53]', '\"Lean On\"[54]']\n"
     ]
    }
   ],
   "source": [
    "Brand_tags=driver.find_elements(By.XPATH,\"//*[@id='mw-content-text']/div[1]/table[1]/tbody/tr/td[1]\")\n",
    "for i in  Brand_tags:\n",
    "        Brand=i.text\n",
    "        Rank_name.append(Brand)\n",
    "        print(len(Rank_name),Rank_name)"
   ]
  },
  {
   "cell_type": "code",
   "execution_count": 28,
   "id": "5fec55bd",
   "metadata": {},
   "outputs": [
    {
     "name": "stdout",
     "output_type": "stream",
     "text": [
      "1 [\"Pinkfong Baby Shark - Kids' Songs & Stories\"]\n",
      "2 [\"Pinkfong Baby Shark - Kids' Songs & Stories\", 'Luis Fonsi']\n",
      "3 [\"Pinkfong Baby Shark - Kids' Songs & Stories\", 'Luis Fonsi', \"LooLoo Kids - Nursery Rhymes and Children's Songs\"]\n",
      "4 [\"Pinkfong Baby Shark - Kids' Songs & Stories\", 'Luis Fonsi', \"LooLoo Kids - Nursery Rhymes and Children's Songs\", 'Cocomelon - Nursery Rhymes']\n",
      "5 [\"Pinkfong Baby Shark - Kids' Songs & Stories\", 'Luis Fonsi', \"LooLoo Kids - Nursery Rhymes and Children's Songs\", 'Cocomelon - Nursery Rhymes', 'Ed Sheeran']\n",
      "6 [\"Pinkfong Baby Shark - Kids' Songs & Stories\", 'Luis Fonsi', \"LooLoo Kids - Nursery Rhymes and Children's Songs\", 'Cocomelon - Nursery Rhymes', 'Ed Sheeran', 'Wiz Khalifa']\n",
      "7 [\"Pinkfong Baby Shark - Kids' Songs & Stories\", 'Luis Fonsi', \"LooLoo Kids - Nursery Rhymes and Children's Songs\", 'Cocomelon - Nursery Rhymes', 'Ed Sheeran', 'Wiz Khalifa', 'Cocomelon - Nursery Rhymes']\n",
      "8 [\"Pinkfong Baby Shark - Kids' Songs & Stories\", 'Luis Fonsi', \"LooLoo Kids - Nursery Rhymes and Children's Songs\", 'Cocomelon - Nursery Rhymes', 'Ed Sheeran', 'Wiz Khalifa', 'Cocomelon - Nursery Rhymes', 'ChuChu TV Nursery Rhymes & Kids Songs']\n",
      "9 [\"Pinkfong Baby Shark - Kids' Songs & Stories\", 'Luis Fonsi', \"LooLoo Kids - Nursery Rhymes and Children's Songs\", 'Cocomelon - Nursery Rhymes', 'Ed Sheeran', 'Wiz Khalifa', 'Cocomelon - Nursery Rhymes', 'ChuChu TV Nursery Rhymes & Kids Songs', 'Mark Ronson']\n",
      "10 [\"Pinkfong Baby Shark - Kids' Songs & Stories\", 'Luis Fonsi', \"LooLoo Kids - Nursery Rhymes and Children's Songs\", 'Cocomelon - Nursery Rhymes', 'Ed Sheeran', 'Wiz Khalifa', 'Cocomelon - Nursery Rhymes', 'ChuChu TV Nursery Rhymes & Kids Songs', 'Mark Ronson', 'Miroshka TV']\n",
      "11 [\"Pinkfong Baby Shark - Kids' Songs & Stories\", 'Luis Fonsi', \"LooLoo Kids - Nursery Rhymes and Children's Songs\", 'Cocomelon - Nursery Rhymes', 'Ed Sheeran', 'Wiz Khalifa', 'Cocomelon - Nursery Rhymes', 'ChuChu TV Nursery Rhymes & Kids Songs', 'Mark Ronson', 'Miroshka TV', 'Psy']\n",
      "12 [\"Pinkfong Baby Shark - Kids' Songs & Stories\", 'Luis Fonsi', \"LooLoo Kids - Nursery Rhymes and Children's Songs\", 'Cocomelon - Nursery Rhymes', 'Ed Sheeran', 'Wiz Khalifa', 'Cocomelon - Nursery Rhymes', 'ChuChu TV Nursery Rhymes & Kids Songs', 'Mark Ronson', 'Miroshka TV', 'Psy', 'Get Movies']\n",
      "13 [\"Pinkfong Baby Shark - Kids' Songs & Stories\", 'Luis Fonsi', \"LooLoo Kids - Nursery Rhymes and Children's Songs\", 'Cocomelon - Nursery Rhymes', 'Ed Sheeran', 'Wiz Khalifa', 'Cocomelon - Nursery Rhymes', 'ChuChu TV Nursery Rhymes & Kids Songs', 'Mark Ronson', 'Miroshka TV', 'Psy', 'Get Movies', 'Ultra Records']\n",
      "14 [\"Pinkfong Baby Shark - Kids' Songs & Stories\", 'Luis Fonsi', \"LooLoo Kids - Nursery Rhymes and Children's Songs\", 'Cocomelon - Nursery Rhymes', 'Ed Sheeran', 'Wiz Khalifa', 'Cocomelon - Nursery Rhymes', 'ChuChu TV Nursery Rhymes & Kids Songs', 'Mark Ronson', 'Miroshka TV', 'Psy', 'Get Movies', 'Ultra Records', 'Crazy Frog']\n",
      "15 [\"Pinkfong Baby Shark - Kids' Songs & Stories\", 'Luis Fonsi', \"LooLoo Kids - Nursery Rhymes and Children's Songs\", 'Cocomelon - Nursery Rhymes', 'Ed Sheeran', 'Wiz Khalifa', 'Cocomelon - Nursery Rhymes', 'ChuChu TV Nursery Rhymes & Kids Songs', 'Mark Ronson', 'Miroshka TV', 'Psy', 'Get Movies', 'Ultra Records', 'Crazy Frog', 'Maroon 5']\n",
      "16 [\"Pinkfong Baby Shark - Kids' Songs & Stories\", 'Luis Fonsi', \"LooLoo Kids - Nursery Rhymes and Children's Songs\", 'Cocomelon - Nursery Rhymes', 'Ed Sheeran', 'Wiz Khalifa', 'Cocomelon - Nursery Rhymes', 'ChuChu TV Nursery Rhymes & Kids Songs', 'Mark Ronson', 'Miroshka TV', 'Psy', 'Get Movies', 'Ultra Records', 'Crazy Frog', 'Maroon 5', 'OneRepublic']\n",
      "17 [\"Pinkfong Baby Shark - Kids' Songs & Stories\", 'Luis Fonsi', \"LooLoo Kids - Nursery Rhymes and Children's Songs\", 'Cocomelon - Nursery Rhymes', 'Ed Sheeran', 'Wiz Khalifa', 'Cocomelon - Nursery Rhymes', 'ChuChu TV Nursery Rhymes & Kids Songs', 'Mark Ronson', 'Miroshka TV', 'Psy', 'Get Movies', 'Ultra Records', 'Crazy Frog', 'Maroon 5', 'OneRepublic', 'Katy Perry']\n",
      "18 [\"Pinkfong Baby Shark - Kids' Songs & Stories\", 'Luis Fonsi', \"LooLoo Kids - Nursery Rhymes and Children's Songs\", 'Cocomelon - Nursery Rhymes', 'Ed Sheeran', 'Wiz Khalifa', 'Cocomelon - Nursery Rhymes', 'ChuChu TV Nursery Rhymes & Kids Songs', 'Mark Ronson', 'Miroshka TV', 'Psy', 'Get Movies', 'Ultra Records', 'Crazy Frog', 'Maroon 5', 'OneRepublic', 'Katy Perry', 'Cocomelon - Nursery Rhymes']\n",
      "19 [\"Pinkfong Baby Shark - Kids' Songs & Stories\", 'Luis Fonsi', \"LooLoo Kids - Nursery Rhymes and Children's Songs\", 'Cocomelon - Nursery Rhymes', 'Ed Sheeran', 'Wiz Khalifa', 'Cocomelon - Nursery Rhymes', 'ChuChu TV Nursery Rhymes & Kids Songs', 'Mark Ronson', 'Miroshka TV', 'Psy', 'Get Movies', 'Ultra Records', 'Crazy Frog', 'Maroon 5', 'OneRepublic', 'Katy Perry', 'Cocomelon - Nursery Rhymes', 'Shakira']\n",
      "20 [\"Pinkfong Baby Shark - Kids' Songs & Stories\", 'Luis Fonsi', \"LooLoo Kids - Nursery Rhymes and Children's Songs\", 'Cocomelon - Nursery Rhymes', 'Ed Sheeran', 'Wiz Khalifa', 'Cocomelon - Nursery Rhymes', 'ChuChu TV Nursery Rhymes & Kids Songs', 'Mark Ronson', 'Miroshka TV', 'Psy', 'Get Movies', 'Ultra Records', 'Crazy Frog', 'Maroon 5', 'OneRepublic', 'Katy Perry', 'Cocomelon - Nursery Rhymes', 'Shakira', 'Jingle Toons']\n",
      "21 [\"Pinkfong Baby Shark - Kids' Songs & Stories\", 'Luis Fonsi', \"LooLoo Kids - Nursery Rhymes and Children's Songs\", 'Cocomelon - Nursery Rhymes', 'Ed Sheeran', 'Wiz Khalifa', 'Cocomelon - Nursery Rhymes', 'ChuChu TV Nursery Rhymes & Kids Songs', 'Mark Ronson', 'Miroshka TV', 'Psy', 'Get Movies', 'Ultra Records', 'Crazy Frog', 'Maroon 5', 'OneRepublic', 'Katy Perry', 'Cocomelon - Nursery Rhymes', 'Shakira', 'Jingle Toons', 'Justin Bieber']\n",
      "22 [\"Pinkfong Baby Shark - Kids' Songs & Stories\", 'Luis Fonsi', \"LooLoo Kids - Nursery Rhymes and Children's Songs\", 'Cocomelon - Nursery Rhymes', 'Ed Sheeran', 'Wiz Khalifa', 'Cocomelon - Nursery Rhymes', 'ChuChu TV Nursery Rhymes & Kids Songs', 'Mark Ronson', 'Miroshka TV', 'Psy', 'Get Movies', 'Ultra Records', 'Crazy Frog', 'Maroon 5', 'OneRepublic', 'Katy Perry', 'Cocomelon - Nursery Rhymes', 'Shakira', 'Jingle Toons', 'Justin Bieber', 'Ed Sheeran']\n",
      "23 [\"Pinkfong Baby Shark - Kids' Songs & Stories\", 'Luis Fonsi', \"LooLoo Kids - Nursery Rhymes and Children's Songs\", 'Cocomelon - Nursery Rhymes', 'Ed Sheeran', 'Wiz Khalifa', 'Cocomelon - Nursery Rhymes', 'ChuChu TV Nursery Rhymes & Kids Songs', 'Mark Ronson', 'Miroshka TV', 'Psy', 'Get Movies', 'Ultra Records', 'Crazy Frog', 'Maroon 5', 'OneRepublic', 'Katy Perry', 'Cocomelon - Nursery Rhymes', 'Shakira', 'Jingle Toons', 'Justin Bieber', 'Ed Sheeran', 'Kiddiestv Hindi - Nursery Rhymes & Kids Songs']\n",
      "24 [\"Pinkfong Baby Shark - Kids' Songs & Stories\", 'Luis Fonsi', \"LooLoo Kids - Nursery Rhymes and Children's Songs\", 'Cocomelon - Nursery Rhymes', 'Ed Sheeran', 'Wiz Khalifa', 'Cocomelon - Nursery Rhymes', 'ChuChu TV Nursery Rhymes & Kids Songs', 'Mark Ronson', 'Miroshka TV', 'Psy', 'Get Movies', 'Ultra Records', 'Crazy Frog', 'Maroon 5', 'OneRepublic', 'Katy Perry', 'Cocomelon - Nursery Rhymes', 'Shakira', 'Jingle Toons', 'Justin Bieber', 'Ed Sheeran', 'Kiddiestv Hindi - Nursery Rhymes & Kids Songs', 'Katy Perry']\n",
      "25 [\"Pinkfong Baby Shark - Kids' Songs & Stories\", 'Luis Fonsi', \"LooLoo Kids - Nursery Rhymes and Children's Songs\", 'Cocomelon - Nursery Rhymes', 'Ed Sheeran', 'Wiz Khalifa', 'Cocomelon - Nursery Rhymes', 'ChuChu TV Nursery Rhymes & Kids Songs', 'Mark Ronson', 'Miroshka TV', 'Psy', 'Get Movies', 'Ultra Records', 'Crazy Frog', 'Maroon 5', 'OneRepublic', 'Katy Perry', 'Cocomelon - Nursery Rhymes', 'Shakira', 'Jingle Toons', 'Justin Bieber', 'Ed Sheeran', 'Kiddiestv Hindi - Nursery Rhymes & Kids Songs', 'Katy Perry', 'Ed Sheeran']\n",
      "26 [\"Pinkfong Baby Shark - Kids' Songs & Stories\", 'Luis Fonsi', \"LooLoo Kids - Nursery Rhymes and Children's Songs\", 'Cocomelon - Nursery Rhymes', 'Ed Sheeran', 'Wiz Khalifa', 'Cocomelon - Nursery Rhymes', 'ChuChu TV Nursery Rhymes & Kids Songs', 'Mark Ronson', 'Miroshka TV', 'Psy', 'Get Movies', 'Ultra Records', 'Crazy Frog', 'Maroon 5', 'OneRepublic', 'Katy Perry', 'Cocomelon - Nursery Rhymes', 'Shakira', 'Jingle Toons', 'Justin Bieber', 'Ed Sheeran', 'Kiddiestv Hindi - Nursery Rhymes & Kids Songs', 'Katy Perry', 'Ed Sheeran', 'T-Series Bhakti Sagar']\n",
      "27 [\"Pinkfong Baby Shark - Kids' Songs & Stories\", 'Luis Fonsi', \"LooLoo Kids - Nursery Rhymes and Children's Songs\", 'Cocomelon - Nursery Rhymes', 'Ed Sheeran', 'Wiz Khalifa', 'Cocomelon - Nursery Rhymes', 'ChuChu TV Nursery Rhymes & Kids Songs', 'Mark Ronson', 'Miroshka TV', 'Psy', 'Get Movies', 'Ultra Records', 'Crazy Frog', 'Maroon 5', 'OneRepublic', 'Katy Perry', 'Cocomelon - Nursery Rhymes', 'Shakira', 'Jingle Toons', 'Justin Bieber', 'Ed Sheeran', 'Kiddiestv Hindi - Nursery Rhymes & Kids Songs', 'Katy Perry', 'Ed Sheeran', 'T-Series Bhakti Sagar', 'Passenger']\n",
      "28 [\"Pinkfong Baby Shark - Kids' Songs & Stories\", 'Luis Fonsi', \"LooLoo Kids - Nursery Rhymes and Children's Songs\", 'Cocomelon - Nursery Rhymes', 'Ed Sheeran', 'Wiz Khalifa', 'Cocomelon - Nursery Rhymes', 'ChuChu TV Nursery Rhymes & Kids Songs', 'Mark Ronson', 'Miroshka TV', 'Psy', 'Get Movies', 'Ultra Records', 'Crazy Frog', 'Maroon 5', 'OneRepublic', 'Katy Perry', 'Cocomelon - Nursery Rhymes', 'Shakira', 'Jingle Toons', 'Justin Bieber', 'Ed Sheeran', 'Kiddiestv Hindi - Nursery Rhymes & Kids Songs', 'Katy Perry', 'Ed Sheeran', 'T-Series Bhakti Sagar', 'Passenger', 'Alan Walker']\n",
      "29 [\"Pinkfong Baby Shark - Kids' Songs & Stories\", 'Luis Fonsi', \"LooLoo Kids - Nursery Rhymes and Children's Songs\", 'Cocomelon - Nursery Rhymes', 'Ed Sheeran', 'Wiz Khalifa', 'Cocomelon - Nursery Rhymes', 'ChuChu TV Nursery Rhymes & Kids Songs', 'Mark Ronson', 'Miroshka TV', 'Psy', 'Get Movies', 'Ultra Records', 'Crazy Frog', 'Maroon 5', 'OneRepublic', 'Katy Perry', 'Cocomelon - Nursery Rhymes', 'Shakira', 'Jingle Toons', 'Justin Bieber', 'Ed Sheeran', 'Kiddiestv Hindi - Nursery Rhymes & Kids Songs', 'Katy Perry', 'Ed Sheeran', 'T-Series Bhakti Sagar', 'Passenger', 'Alan Walker', 'Maroon 5']\n",
      "30 [\"Pinkfong Baby Shark - Kids' Songs & Stories\", 'Luis Fonsi', \"LooLoo Kids - Nursery Rhymes and Children's Songs\", 'Cocomelon - Nursery Rhymes', 'Ed Sheeran', 'Wiz Khalifa', 'Cocomelon - Nursery Rhymes', 'ChuChu TV Nursery Rhymes & Kids Songs', 'Mark Ronson', 'Miroshka TV', 'Psy', 'Get Movies', 'Ultra Records', 'Crazy Frog', 'Maroon 5', 'OneRepublic', 'Katy Perry', 'Cocomelon - Nursery Rhymes', 'Shakira', 'Jingle Toons', 'Justin Bieber', 'Ed Sheeran', 'Kiddiestv Hindi - Nursery Rhymes & Kids Songs', 'Katy Perry', 'Ed Sheeran', 'T-Series Bhakti Sagar', 'Passenger', 'Alan Walker', 'Maroon 5', 'Major Lazer Official']\n"
     ]
    }
   ],
   "source": [
    "Brand_tags=driver.find_elements(By.XPATH,\"//*[@id='mw-content-text']/div[1]/table[1]/tbody/tr/td[2]\")\n",
    "for i in  Brand_tags:\n",
    "        Brand=i.text\n",
    "        Artist.append(Brand)\n",
    "        \n",
    "     \n",
    "        print(len(Artist), Artist)\n"
   ]
  },
  {
   "cell_type": "code",
   "execution_count": 32,
   "id": "4ed9fe0f",
   "metadata": {},
   "outputs": [
    {
     "name": "stdout",
     "output_type": "stream",
     "text": [
      "32 ['June 17, 2016', 'January 12, 2017', 'October 8, 2016', 'May 2, 2018', 'January 30, 2017', 'April 6, 2015', 'May 24, 2018', 'March 6, 2014', 'November 19, 2014', 'February 27, 2018', 'July 15, 2012', 'January 31, 2012', 'April 5, 2018', 'June 16, 2009', 'January 14, 2015', 'May 31, 2013', 'September 5, 2013', 'June 25, 2018', 'June 4, 2010', 'June 14, 2018', 'October 22, 2015', 'October 7, 2014', 'January 26, 2018', 'February 20, 2014', 'November 9, 2017', 'May 10, 2011', 'July 25, 2012', 'December 3, 2015', 'May 31, 2018', 'March 22, 2015', 'June 17, 2016', 'June 17, 2016']\n",
      "33 ['June 17, 2016', 'January 12, 2017', 'October 8, 2016', 'May 2, 2018', 'January 30, 2017', 'April 6, 2015', 'May 24, 2018', 'March 6, 2014', 'November 19, 2014', 'February 27, 2018', 'July 15, 2012', 'January 31, 2012', 'April 5, 2018', 'June 16, 2009', 'January 14, 2015', 'May 31, 2013', 'September 5, 2013', 'June 25, 2018', 'June 4, 2010', 'June 14, 2018', 'October 22, 2015', 'October 7, 2014', 'January 26, 2018', 'February 20, 2014', 'November 9, 2017', 'May 10, 2011', 'July 25, 2012', 'December 3, 2015', 'May 31, 2018', 'March 22, 2015', 'June 17, 2016', 'June 17, 2016', 'January 12, 2017']\n",
      "34 ['June 17, 2016', 'January 12, 2017', 'October 8, 2016', 'May 2, 2018', 'January 30, 2017', 'April 6, 2015', 'May 24, 2018', 'March 6, 2014', 'November 19, 2014', 'February 27, 2018', 'July 15, 2012', 'January 31, 2012', 'April 5, 2018', 'June 16, 2009', 'January 14, 2015', 'May 31, 2013', 'September 5, 2013', 'June 25, 2018', 'June 4, 2010', 'June 14, 2018', 'October 22, 2015', 'October 7, 2014', 'January 26, 2018', 'February 20, 2014', 'November 9, 2017', 'May 10, 2011', 'July 25, 2012', 'December 3, 2015', 'May 31, 2018', 'March 22, 2015', 'June 17, 2016', 'June 17, 2016', 'January 12, 2017', 'October 8, 2016']\n",
      "35 ['June 17, 2016', 'January 12, 2017', 'October 8, 2016', 'May 2, 2018', 'January 30, 2017', 'April 6, 2015', 'May 24, 2018', 'March 6, 2014', 'November 19, 2014', 'February 27, 2018', 'July 15, 2012', 'January 31, 2012', 'April 5, 2018', 'June 16, 2009', 'January 14, 2015', 'May 31, 2013', 'September 5, 2013', 'June 25, 2018', 'June 4, 2010', 'June 14, 2018', 'October 22, 2015', 'October 7, 2014', 'January 26, 2018', 'February 20, 2014', 'November 9, 2017', 'May 10, 2011', 'July 25, 2012', 'December 3, 2015', 'May 31, 2018', 'March 22, 2015', 'June 17, 2016', 'June 17, 2016', 'January 12, 2017', 'October 8, 2016', 'May 2, 2018']\n",
      "36 ['June 17, 2016', 'January 12, 2017', 'October 8, 2016', 'May 2, 2018', 'January 30, 2017', 'April 6, 2015', 'May 24, 2018', 'March 6, 2014', 'November 19, 2014', 'February 27, 2018', 'July 15, 2012', 'January 31, 2012', 'April 5, 2018', 'June 16, 2009', 'January 14, 2015', 'May 31, 2013', 'September 5, 2013', 'June 25, 2018', 'June 4, 2010', 'June 14, 2018', 'October 22, 2015', 'October 7, 2014', 'January 26, 2018', 'February 20, 2014', 'November 9, 2017', 'May 10, 2011', 'July 25, 2012', 'December 3, 2015', 'May 31, 2018', 'March 22, 2015', 'June 17, 2016', 'June 17, 2016', 'January 12, 2017', 'October 8, 2016', 'May 2, 2018', 'January 30, 2017']\n",
      "37 ['June 17, 2016', 'January 12, 2017', 'October 8, 2016', 'May 2, 2018', 'January 30, 2017', 'April 6, 2015', 'May 24, 2018', 'March 6, 2014', 'November 19, 2014', 'February 27, 2018', 'July 15, 2012', 'January 31, 2012', 'April 5, 2018', 'June 16, 2009', 'January 14, 2015', 'May 31, 2013', 'September 5, 2013', 'June 25, 2018', 'June 4, 2010', 'June 14, 2018', 'October 22, 2015', 'October 7, 2014', 'January 26, 2018', 'February 20, 2014', 'November 9, 2017', 'May 10, 2011', 'July 25, 2012', 'December 3, 2015', 'May 31, 2018', 'March 22, 2015', 'June 17, 2016', 'June 17, 2016', 'January 12, 2017', 'October 8, 2016', 'May 2, 2018', 'January 30, 2017', 'April 6, 2015']\n",
      "38 ['June 17, 2016', 'January 12, 2017', 'October 8, 2016', 'May 2, 2018', 'January 30, 2017', 'April 6, 2015', 'May 24, 2018', 'March 6, 2014', 'November 19, 2014', 'February 27, 2018', 'July 15, 2012', 'January 31, 2012', 'April 5, 2018', 'June 16, 2009', 'January 14, 2015', 'May 31, 2013', 'September 5, 2013', 'June 25, 2018', 'June 4, 2010', 'June 14, 2018', 'October 22, 2015', 'October 7, 2014', 'January 26, 2018', 'February 20, 2014', 'November 9, 2017', 'May 10, 2011', 'July 25, 2012', 'December 3, 2015', 'May 31, 2018', 'March 22, 2015', 'June 17, 2016', 'June 17, 2016', 'January 12, 2017', 'October 8, 2016', 'May 2, 2018', 'January 30, 2017', 'April 6, 2015', 'May 24, 2018']\n",
      "39 ['June 17, 2016', 'January 12, 2017', 'October 8, 2016', 'May 2, 2018', 'January 30, 2017', 'April 6, 2015', 'May 24, 2018', 'March 6, 2014', 'November 19, 2014', 'February 27, 2018', 'July 15, 2012', 'January 31, 2012', 'April 5, 2018', 'June 16, 2009', 'January 14, 2015', 'May 31, 2013', 'September 5, 2013', 'June 25, 2018', 'June 4, 2010', 'June 14, 2018', 'October 22, 2015', 'October 7, 2014', 'January 26, 2018', 'February 20, 2014', 'November 9, 2017', 'May 10, 2011', 'July 25, 2012', 'December 3, 2015', 'May 31, 2018', 'March 22, 2015', 'June 17, 2016', 'June 17, 2016', 'January 12, 2017', 'October 8, 2016', 'May 2, 2018', 'January 30, 2017', 'April 6, 2015', 'May 24, 2018', 'March 6, 2014']\n",
      "40 ['June 17, 2016', 'January 12, 2017', 'October 8, 2016', 'May 2, 2018', 'January 30, 2017', 'April 6, 2015', 'May 24, 2018', 'March 6, 2014', 'November 19, 2014', 'February 27, 2018', 'July 15, 2012', 'January 31, 2012', 'April 5, 2018', 'June 16, 2009', 'January 14, 2015', 'May 31, 2013', 'September 5, 2013', 'June 25, 2018', 'June 4, 2010', 'June 14, 2018', 'October 22, 2015', 'October 7, 2014', 'January 26, 2018', 'February 20, 2014', 'November 9, 2017', 'May 10, 2011', 'July 25, 2012', 'December 3, 2015', 'May 31, 2018', 'March 22, 2015', 'June 17, 2016', 'June 17, 2016', 'January 12, 2017', 'October 8, 2016', 'May 2, 2018', 'January 30, 2017', 'April 6, 2015', 'May 24, 2018', 'March 6, 2014', 'November 19, 2014']\n",
      "41 ['June 17, 2016', 'January 12, 2017', 'October 8, 2016', 'May 2, 2018', 'January 30, 2017', 'April 6, 2015', 'May 24, 2018', 'March 6, 2014', 'November 19, 2014', 'February 27, 2018', 'July 15, 2012', 'January 31, 2012', 'April 5, 2018', 'June 16, 2009', 'January 14, 2015', 'May 31, 2013', 'September 5, 2013', 'June 25, 2018', 'June 4, 2010', 'June 14, 2018', 'October 22, 2015', 'October 7, 2014', 'January 26, 2018', 'February 20, 2014', 'November 9, 2017', 'May 10, 2011', 'July 25, 2012', 'December 3, 2015', 'May 31, 2018', 'March 22, 2015', 'June 17, 2016', 'June 17, 2016', 'January 12, 2017', 'October 8, 2016', 'May 2, 2018', 'January 30, 2017', 'April 6, 2015', 'May 24, 2018', 'March 6, 2014', 'November 19, 2014', 'February 27, 2018']\n",
      "42 ['June 17, 2016', 'January 12, 2017', 'October 8, 2016', 'May 2, 2018', 'January 30, 2017', 'April 6, 2015', 'May 24, 2018', 'March 6, 2014', 'November 19, 2014', 'February 27, 2018', 'July 15, 2012', 'January 31, 2012', 'April 5, 2018', 'June 16, 2009', 'January 14, 2015', 'May 31, 2013', 'September 5, 2013', 'June 25, 2018', 'June 4, 2010', 'June 14, 2018', 'October 22, 2015', 'October 7, 2014', 'January 26, 2018', 'February 20, 2014', 'November 9, 2017', 'May 10, 2011', 'July 25, 2012', 'December 3, 2015', 'May 31, 2018', 'March 22, 2015', 'June 17, 2016', 'June 17, 2016', 'January 12, 2017', 'October 8, 2016', 'May 2, 2018', 'January 30, 2017', 'April 6, 2015', 'May 24, 2018', 'March 6, 2014', 'November 19, 2014', 'February 27, 2018', 'July 15, 2012']\n",
      "43 ['June 17, 2016', 'January 12, 2017', 'October 8, 2016', 'May 2, 2018', 'January 30, 2017', 'April 6, 2015', 'May 24, 2018', 'March 6, 2014', 'November 19, 2014', 'February 27, 2018', 'July 15, 2012', 'January 31, 2012', 'April 5, 2018', 'June 16, 2009', 'January 14, 2015', 'May 31, 2013', 'September 5, 2013', 'June 25, 2018', 'June 4, 2010', 'June 14, 2018', 'October 22, 2015', 'October 7, 2014', 'January 26, 2018', 'February 20, 2014', 'November 9, 2017', 'May 10, 2011', 'July 25, 2012', 'December 3, 2015', 'May 31, 2018', 'March 22, 2015', 'June 17, 2016', 'June 17, 2016', 'January 12, 2017', 'October 8, 2016', 'May 2, 2018', 'January 30, 2017', 'April 6, 2015', 'May 24, 2018', 'March 6, 2014', 'November 19, 2014', 'February 27, 2018', 'July 15, 2012', 'January 31, 2012']\n",
      "44 ['June 17, 2016', 'January 12, 2017', 'October 8, 2016', 'May 2, 2018', 'January 30, 2017', 'April 6, 2015', 'May 24, 2018', 'March 6, 2014', 'November 19, 2014', 'February 27, 2018', 'July 15, 2012', 'January 31, 2012', 'April 5, 2018', 'June 16, 2009', 'January 14, 2015', 'May 31, 2013', 'September 5, 2013', 'June 25, 2018', 'June 4, 2010', 'June 14, 2018', 'October 22, 2015', 'October 7, 2014', 'January 26, 2018', 'February 20, 2014', 'November 9, 2017', 'May 10, 2011', 'July 25, 2012', 'December 3, 2015', 'May 31, 2018', 'March 22, 2015', 'June 17, 2016', 'June 17, 2016', 'January 12, 2017', 'October 8, 2016', 'May 2, 2018', 'January 30, 2017', 'April 6, 2015', 'May 24, 2018', 'March 6, 2014', 'November 19, 2014', 'February 27, 2018', 'July 15, 2012', 'January 31, 2012', 'April 5, 2018']\n",
      "45 ['June 17, 2016', 'January 12, 2017', 'October 8, 2016', 'May 2, 2018', 'January 30, 2017', 'April 6, 2015', 'May 24, 2018', 'March 6, 2014', 'November 19, 2014', 'February 27, 2018', 'July 15, 2012', 'January 31, 2012', 'April 5, 2018', 'June 16, 2009', 'January 14, 2015', 'May 31, 2013', 'September 5, 2013', 'June 25, 2018', 'June 4, 2010', 'June 14, 2018', 'October 22, 2015', 'October 7, 2014', 'January 26, 2018', 'February 20, 2014', 'November 9, 2017', 'May 10, 2011', 'July 25, 2012', 'December 3, 2015', 'May 31, 2018', 'March 22, 2015', 'June 17, 2016', 'June 17, 2016', 'January 12, 2017', 'October 8, 2016', 'May 2, 2018', 'January 30, 2017', 'April 6, 2015', 'May 24, 2018', 'March 6, 2014', 'November 19, 2014', 'February 27, 2018', 'July 15, 2012', 'January 31, 2012', 'April 5, 2018', 'June 16, 2009']\n",
      "46 ['June 17, 2016', 'January 12, 2017', 'October 8, 2016', 'May 2, 2018', 'January 30, 2017', 'April 6, 2015', 'May 24, 2018', 'March 6, 2014', 'November 19, 2014', 'February 27, 2018', 'July 15, 2012', 'January 31, 2012', 'April 5, 2018', 'June 16, 2009', 'January 14, 2015', 'May 31, 2013', 'September 5, 2013', 'June 25, 2018', 'June 4, 2010', 'June 14, 2018', 'October 22, 2015', 'October 7, 2014', 'January 26, 2018', 'February 20, 2014', 'November 9, 2017', 'May 10, 2011', 'July 25, 2012', 'December 3, 2015', 'May 31, 2018', 'March 22, 2015', 'June 17, 2016', 'June 17, 2016', 'January 12, 2017', 'October 8, 2016', 'May 2, 2018', 'January 30, 2017', 'April 6, 2015', 'May 24, 2018', 'March 6, 2014', 'November 19, 2014', 'February 27, 2018', 'July 15, 2012', 'January 31, 2012', 'April 5, 2018', 'June 16, 2009', 'January 14, 2015']\n",
      "47 ['June 17, 2016', 'January 12, 2017', 'October 8, 2016', 'May 2, 2018', 'January 30, 2017', 'April 6, 2015', 'May 24, 2018', 'March 6, 2014', 'November 19, 2014', 'February 27, 2018', 'July 15, 2012', 'January 31, 2012', 'April 5, 2018', 'June 16, 2009', 'January 14, 2015', 'May 31, 2013', 'September 5, 2013', 'June 25, 2018', 'June 4, 2010', 'June 14, 2018', 'October 22, 2015', 'October 7, 2014', 'January 26, 2018', 'February 20, 2014', 'November 9, 2017', 'May 10, 2011', 'July 25, 2012', 'December 3, 2015', 'May 31, 2018', 'March 22, 2015', 'June 17, 2016', 'June 17, 2016', 'January 12, 2017', 'October 8, 2016', 'May 2, 2018', 'January 30, 2017', 'April 6, 2015', 'May 24, 2018', 'March 6, 2014', 'November 19, 2014', 'February 27, 2018', 'July 15, 2012', 'January 31, 2012', 'April 5, 2018', 'June 16, 2009', 'January 14, 2015', 'May 31, 2013']\n",
      "48 ['June 17, 2016', 'January 12, 2017', 'October 8, 2016', 'May 2, 2018', 'January 30, 2017', 'April 6, 2015', 'May 24, 2018', 'March 6, 2014', 'November 19, 2014', 'February 27, 2018', 'July 15, 2012', 'January 31, 2012', 'April 5, 2018', 'June 16, 2009', 'January 14, 2015', 'May 31, 2013', 'September 5, 2013', 'June 25, 2018', 'June 4, 2010', 'June 14, 2018', 'October 22, 2015', 'October 7, 2014', 'January 26, 2018', 'February 20, 2014', 'November 9, 2017', 'May 10, 2011', 'July 25, 2012', 'December 3, 2015', 'May 31, 2018', 'March 22, 2015', 'June 17, 2016', 'June 17, 2016', 'January 12, 2017', 'October 8, 2016', 'May 2, 2018', 'January 30, 2017', 'April 6, 2015', 'May 24, 2018', 'March 6, 2014', 'November 19, 2014', 'February 27, 2018', 'July 15, 2012', 'January 31, 2012', 'April 5, 2018', 'June 16, 2009', 'January 14, 2015', 'May 31, 2013', 'September 5, 2013']\n",
      "49 ['June 17, 2016', 'January 12, 2017', 'October 8, 2016', 'May 2, 2018', 'January 30, 2017', 'April 6, 2015', 'May 24, 2018', 'March 6, 2014', 'November 19, 2014', 'February 27, 2018', 'July 15, 2012', 'January 31, 2012', 'April 5, 2018', 'June 16, 2009', 'January 14, 2015', 'May 31, 2013', 'September 5, 2013', 'June 25, 2018', 'June 4, 2010', 'June 14, 2018', 'October 22, 2015', 'October 7, 2014', 'January 26, 2018', 'February 20, 2014', 'November 9, 2017', 'May 10, 2011', 'July 25, 2012', 'December 3, 2015', 'May 31, 2018', 'March 22, 2015', 'June 17, 2016', 'June 17, 2016', 'January 12, 2017', 'October 8, 2016', 'May 2, 2018', 'January 30, 2017', 'April 6, 2015', 'May 24, 2018', 'March 6, 2014', 'November 19, 2014', 'February 27, 2018', 'July 15, 2012', 'January 31, 2012', 'April 5, 2018', 'June 16, 2009', 'January 14, 2015', 'May 31, 2013', 'September 5, 2013', 'June 25, 2018']\n",
      "50 ['June 17, 2016', 'January 12, 2017', 'October 8, 2016', 'May 2, 2018', 'January 30, 2017', 'April 6, 2015', 'May 24, 2018', 'March 6, 2014', 'November 19, 2014', 'February 27, 2018', 'July 15, 2012', 'January 31, 2012', 'April 5, 2018', 'June 16, 2009', 'January 14, 2015', 'May 31, 2013', 'September 5, 2013', 'June 25, 2018', 'June 4, 2010', 'June 14, 2018', 'October 22, 2015', 'October 7, 2014', 'January 26, 2018', 'February 20, 2014', 'November 9, 2017', 'May 10, 2011', 'July 25, 2012', 'December 3, 2015', 'May 31, 2018', 'March 22, 2015', 'June 17, 2016', 'June 17, 2016', 'January 12, 2017', 'October 8, 2016', 'May 2, 2018', 'January 30, 2017', 'April 6, 2015', 'May 24, 2018', 'March 6, 2014', 'November 19, 2014', 'February 27, 2018', 'July 15, 2012', 'January 31, 2012', 'April 5, 2018', 'June 16, 2009', 'January 14, 2015', 'May 31, 2013', 'September 5, 2013', 'June 25, 2018', 'June 4, 2010']\n",
      "51 ['June 17, 2016', 'January 12, 2017', 'October 8, 2016', 'May 2, 2018', 'January 30, 2017', 'April 6, 2015', 'May 24, 2018', 'March 6, 2014', 'November 19, 2014', 'February 27, 2018', 'July 15, 2012', 'January 31, 2012', 'April 5, 2018', 'June 16, 2009', 'January 14, 2015', 'May 31, 2013', 'September 5, 2013', 'June 25, 2018', 'June 4, 2010', 'June 14, 2018', 'October 22, 2015', 'October 7, 2014', 'January 26, 2018', 'February 20, 2014', 'November 9, 2017', 'May 10, 2011', 'July 25, 2012', 'December 3, 2015', 'May 31, 2018', 'March 22, 2015', 'June 17, 2016', 'June 17, 2016', 'January 12, 2017', 'October 8, 2016', 'May 2, 2018', 'January 30, 2017', 'April 6, 2015', 'May 24, 2018', 'March 6, 2014', 'November 19, 2014', 'February 27, 2018', 'July 15, 2012', 'January 31, 2012', 'April 5, 2018', 'June 16, 2009', 'January 14, 2015', 'May 31, 2013', 'September 5, 2013', 'June 25, 2018', 'June 4, 2010', 'June 14, 2018']\n",
      "52 ['June 17, 2016', 'January 12, 2017', 'October 8, 2016', 'May 2, 2018', 'January 30, 2017', 'April 6, 2015', 'May 24, 2018', 'March 6, 2014', 'November 19, 2014', 'February 27, 2018', 'July 15, 2012', 'January 31, 2012', 'April 5, 2018', 'June 16, 2009', 'January 14, 2015', 'May 31, 2013', 'September 5, 2013', 'June 25, 2018', 'June 4, 2010', 'June 14, 2018', 'October 22, 2015', 'October 7, 2014', 'January 26, 2018', 'February 20, 2014', 'November 9, 2017', 'May 10, 2011', 'July 25, 2012', 'December 3, 2015', 'May 31, 2018', 'March 22, 2015', 'June 17, 2016', 'June 17, 2016', 'January 12, 2017', 'October 8, 2016', 'May 2, 2018', 'January 30, 2017', 'April 6, 2015', 'May 24, 2018', 'March 6, 2014', 'November 19, 2014', 'February 27, 2018', 'July 15, 2012', 'January 31, 2012', 'April 5, 2018', 'June 16, 2009', 'January 14, 2015', 'May 31, 2013', 'September 5, 2013', 'June 25, 2018', 'June 4, 2010', 'June 14, 2018', 'October 22, 2015']\n",
      "53 ['June 17, 2016', 'January 12, 2017', 'October 8, 2016', 'May 2, 2018', 'January 30, 2017', 'April 6, 2015', 'May 24, 2018', 'March 6, 2014', 'November 19, 2014', 'February 27, 2018', 'July 15, 2012', 'January 31, 2012', 'April 5, 2018', 'June 16, 2009', 'January 14, 2015', 'May 31, 2013', 'September 5, 2013', 'June 25, 2018', 'June 4, 2010', 'June 14, 2018', 'October 22, 2015', 'October 7, 2014', 'January 26, 2018', 'February 20, 2014', 'November 9, 2017', 'May 10, 2011', 'July 25, 2012', 'December 3, 2015', 'May 31, 2018', 'March 22, 2015', 'June 17, 2016', 'June 17, 2016', 'January 12, 2017', 'October 8, 2016', 'May 2, 2018', 'January 30, 2017', 'April 6, 2015', 'May 24, 2018', 'March 6, 2014', 'November 19, 2014', 'February 27, 2018', 'July 15, 2012', 'January 31, 2012', 'April 5, 2018', 'June 16, 2009', 'January 14, 2015', 'May 31, 2013', 'September 5, 2013', 'June 25, 2018', 'June 4, 2010', 'June 14, 2018', 'October 22, 2015', 'October 7, 2014']\n",
      "54 ['June 17, 2016', 'January 12, 2017', 'October 8, 2016', 'May 2, 2018', 'January 30, 2017', 'April 6, 2015', 'May 24, 2018', 'March 6, 2014', 'November 19, 2014', 'February 27, 2018', 'July 15, 2012', 'January 31, 2012', 'April 5, 2018', 'June 16, 2009', 'January 14, 2015', 'May 31, 2013', 'September 5, 2013', 'June 25, 2018', 'June 4, 2010', 'June 14, 2018', 'October 22, 2015', 'October 7, 2014', 'January 26, 2018', 'February 20, 2014', 'November 9, 2017', 'May 10, 2011', 'July 25, 2012', 'December 3, 2015', 'May 31, 2018', 'March 22, 2015', 'June 17, 2016', 'June 17, 2016', 'January 12, 2017', 'October 8, 2016', 'May 2, 2018', 'January 30, 2017', 'April 6, 2015', 'May 24, 2018', 'March 6, 2014', 'November 19, 2014', 'February 27, 2018', 'July 15, 2012', 'January 31, 2012', 'April 5, 2018', 'June 16, 2009', 'January 14, 2015', 'May 31, 2013', 'September 5, 2013', 'June 25, 2018', 'June 4, 2010', 'June 14, 2018', 'October 22, 2015', 'October 7, 2014', 'January 26, 2018']\n"
     ]
    },
    {
     "name": "stdout",
     "output_type": "stream",
     "text": [
      "55 ['June 17, 2016', 'January 12, 2017', 'October 8, 2016', 'May 2, 2018', 'January 30, 2017', 'April 6, 2015', 'May 24, 2018', 'March 6, 2014', 'November 19, 2014', 'February 27, 2018', 'July 15, 2012', 'January 31, 2012', 'April 5, 2018', 'June 16, 2009', 'January 14, 2015', 'May 31, 2013', 'September 5, 2013', 'June 25, 2018', 'June 4, 2010', 'June 14, 2018', 'October 22, 2015', 'October 7, 2014', 'January 26, 2018', 'February 20, 2014', 'November 9, 2017', 'May 10, 2011', 'July 25, 2012', 'December 3, 2015', 'May 31, 2018', 'March 22, 2015', 'June 17, 2016', 'June 17, 2016', 'January 12, 2017', 'October 8, 2016', 'May 2, 2018', 'January 30, 2017', 'April 6, 2015', 'May 24, 2018', 'March 6, 2014', 'November 19, 2014', 'February 27, 2018', 'July 15, 2012', 'January 31, 2012', 'April 5, 2018', 'June 16, 2009', 'January 14, 2015', 'May 31, 2013', 'September 5, 2013', 'June 25, 2018', 'June 4, 2010', 'June 14, 2018', 'October 22, 2015', 'October 7, 2014', 'January 26, 2018', 'February 20, 2014']\n",
      "56 ['June 17, 2016', 'January 12, 2017', 'October 8, 2016', 'May 2, 2018', 'January 30, 2017', 'April 6, 2015', 'May 24, 2018', 'March 6, 2014', 'November 19, 2014', 'February 27, 2018', 'July 15, 2012', 'January 31, 2012', 'April 5, 2018', 'June 16, 2009', 'January 14, 2015', 'May 31, 2013', 'September 5, 2013', 'June 25, 2018', 'June 4, 2010', 'June 14, 2018', 'October 22, 2015', 'October 7, 2014', 'January 26, 2018', 'February 20, 2014', 'November 9, 2017', 'May 10, 2011', 'July 25, 2012', 'December 3, 2015', 'May 31, 2018', 'March 22, 2015', 'June 17, 2016', 'June 17, 2016', 'January 12, 2017', 'October 8, 2016', 'May 2, 2018', 'January 30, 2017', 'April 6, 2015', 'May 24, 2018', 'March 6, 2014', 'November 19, 2014', 'February 27, 2018', 'July 15, 2012', 'January 31, 2012', 'April 5, 2018', 'June 16, 2009', 'January 14, 2015', 'May 31, 2013', 'September 5, 2013', 'June 25, 2018', 'June 4, 2010', 'June 14, 2018', 'October 22, 2015', 'October 7, 2014', 'January 26, 2018', 'February 20, 2014', 'November 9, 2017']\n",
      "57 ['June 17, 2016', 'January 12, 2017', 'October 8, 2016', 'May 2, 2018', 'January 30, 2017', 'April 6, 2015', 'May 24, 2018', 'March 6, 2014', 'November 19, 2014', 'February 27, 2018', 'July 15, 2012', 'January 31, 2012', 'April 5, 2018', 'June 16, 2009', 'January 14, 2015', 'May 31, 2013', 'September 5, 2013', 'June 25, 2018', 'June 4, 2010', 'June 14, 2018', 'October 22, 2015', 'October 7, 2014', 'January 26, 2018', 'February 20, 2014', 'November 9, 2017', 'May 10, 2011', 'July 25, 2012', 'December 3, 2015', 'May 31, 2018', 'March 22, 2015', 'June 17, 2016', 'June 17, 2016', 'January 12, 2017', 'October 8, 2016', 'May 2, 2018', 'January 30, 2017', 'April 6, 2015', 'May 24, 2018', 'March 6, 2014', 'November 19, 2014', 'February 27, 2018', 'July 15, 2012', 'January 31, 2012', 'April 5, 2018', 'June 16, 2009', 'January 14, 2015', 'May 31, 2013', 'September 5, 2013', 'June 25, 2018', 'June 4, 2010', 'June 14, 2018', 'October 22, 2015', 'October 7, 2014', 'January 26, 2018', 'February 20, 2014', 'November 9, 2017', 'May 10, 2011']\n",
      "58 ['June 17, 2016', 'January 12, 2017', 'October 8, 2016', 'May 2, 2018', 'January 30, 2017', 'April 6, 2015', 'May 24, 2018', 'March 6, 2014', 'November 19, 2014', 'February 27, 2018', 'July 15, 2012', 'January 31, 2012', 'April 5, 2018', 'June 16, 2009', 'January 14, 2015', 'May 31, 2013', 'September 5, 2013', 'June 25, 2018', 'June 4, 2010', 'June 14, 2018', 'October 22, 2015', 'October 7, 2014', 'January 26, 2018', 'February 20, 2014', 'November 9, 2017', 'May 10, 2011', 'July 25, 2012', 'December 3, 2015', 'May 31, 2018', 'March 22, 2015', 'June 17, 2016', 'June 17, 2016', 'January 12, 2017', 'October 8, 2016', 'May 2, 2018', 'January 30, 2017', 'April 6, 2015', 'May 24, 2018', 'March 6, 2014', 'November 19, 2014', 'February 27, 2018', 'July 15, 2012', 'January 31, 2012', 'April 5, 2018', 'June 16, 2009', 'January 14, 2015', 'May 31, 2013', 'September 5, 2013', 'June 25, 2018', 'June 4, 2010', 'June 14, 2018', 'October 22, 2015', 'October 7, 2014', 'January 26, 2018', 'February 20, 2014', 'November 9, 2017', 'May 10, 2011', 'July 25, 2012']\n",
      "59 ['June 17, 2016', 'January 12, 2017', 'October 8, 2016', 'May 2, 2018', 'January 30, 2017', 'April 6, 2015', 'May 24, 2018', 'March 6, 2014', 'November 19, 2014', 'February 27, 2018', 'July 15, 2012', 'January 31, 2012', 'April 5, 2018', 'June 16, 2009', 'January 14, 2015', 'May 31, 2013', 'September 5, 2013', 'June 25, 2018', 'June 4, 2010', 'June 14, 2018', 'October 22, 2015', 'October 7, 2014', 'January 26, 2018', 'February 20, 2014', 'November 9, 2017', 'May 10, 2011', 'July 25, 2012', 'December 3, 2015', 'May 31, 2018', 'March 22, 2015', 'June 17, 2016', 'June 17, 2016', 'January 12, 2017', 'October 8, 2016', 'May 2, 2018', 'January 30, 2017', 'April 6, 2015', 'May 24, 2018', 'March 6, 2014', 'November 19, 2014', 'February 27, 2018', 'July 15, 2012', 'January 31, 2012', 'April 5, 2018', 'June 16, 2009', 'January 14, 2015', 'May 31, 2013', 'September 5, 2013', 'June 25, 2018', 'June 4, 2010', 'June 14, 2018', 'October 22, 2015', 'October 7, 2014', 'January 26, 2018', 'February 20, 2014', 'November 9, 2017', 'May 10, 2011', 'July 25, 2012', 'December 3, 2015']\n",
      "60 ['June 17, 2016', 'January 12, 2017', 'October 8, 2016', 'May 2, 2018', 'January 30, 2017', 'April 6, 2015', 'May 24, 2018', 'March 6, 2014', 'November 19, 2014', 'February 27, 2018', 'July 15, 2012', 'January 31, 2012', 'April 5, 2018', 'June 16, 2009', 'January 14, 2015', 'May 31, 2013', 'September 5, 2013', 'June 25, 2018', 'June 4, 2010', 'June 14, 2018', 'October 22, 2015', 'October 7, 2014', 'January 26, 2018', 'February 20, 2014', 'November 9, 2017', 'May 10, 2011', 'July 25, 2012', 'December 3, 2015', 'May 31, 2018', 'March 22, 2015', 'June 17, 2016', 'June 17, 2016', 'January 12, 2017', 'October 8, 2016', 'May 2, 2018', 'January 30, 2017', 'April 6, 2015', 'May 24, 2018', 'March 6, 2014', 'November 19, 2014', 'February 27, 2018', 'July 15, 2012', 'January 31, 2012', 'April 5, 2018', 'June 16, 2009', 'January 14, 2015', 'May 31, 2013', 'September 5, 2013', 'June 25, 2018', 'June 4, 2010', 'June 14, 2018', 'October 22, 2015', 'October 7, 2014', 'January 26, 2018', 'February 20, 2014', 'November 9, 2017', 'May 10, 2011', 'July 25, 2012', 'December 3, 2015', 'May 31, 2018']\n",
      "61 ['June 17, 2016', 'January 12, 2017', 'October 8, 2016', 'May 2, 2018', 'January 30, 2017', 'April 6, 2015', 'May 24, 2018', 'March 6, 2014', 'November 19, 2014', 'February 27, 2018', 'July 15, 2012', 'January 31, 2012', 'April 5, 2018', 'June 16, 2009', 'January 14, 2015', 'May 31, 2013', 'September 5, 2013', 'June 25, 2018', 'June 4, 2010', 'June 14, 2018', 'October 22, 2015', 'October 7, 2014', 'January 26, 2018', 'February 20, 2014', 'November 9, 2017', 'May 10, 2011', 'July 25, 2012', 'December 3, 2015', 'May 31, 2018', 'March 22, 2015', 'June 17, 2016', 'June 17, 2016', 'January 12, 2017', 'October 8, 2016', 'May 2, 2018', 'January 30, 2017', 'April 6, 2015', 'May 24, 2018', 'March 6, 2014', 'November 19, 2014', 'February 27, 2018', 'July 15, 2012', 'January 31, 2012', 'April 5, 2018', 'June 16, 2009', 'January 14, 2015', 'May 31, 2013', 'September 5, 2013', 'June 25, 2018', 'June 4, 2010', 'June 14, 2018', 'October 22, 2015', 'October 7, 2014', 'January 26, 2018', 'February 20, 2014', 'November 9, 2017', 'May 10, 2011', 'July 25, 2012', 'December 3, 2015', 'May 31, 2018', 'March 22, 2015']\n"
     ]
    }
   ],
   "source": [
    "Brand_tags=driver.find_elements(By.XPATH,\"//*[@id='mw-content-text']/div[1]/table[1]/tbody/tr/td[4]\")\n",
    "for i in  Brand_tags:\n",
    "        Brand=i.text\n",
    "        Upload_date.append(Brand) \n",
    "        print(len(Upload_date),Upload_date)\n"
   ]
  },
  {
   "cell_type": "code",
   "execution_count": 33,
   "id": "92a6cd7e",
   "metadata": {},
   "outputs": [
    {
     "name": "stdout",
     "output_type": "stream",
     "text": [
      "30 ['13.78', '8.33', '6.85', '6.52', '6.15', '6.11', '5.74', '5.59', '5.10', '5.03', '4.98', '4.57', '4.49', '4.19', '3.97', '3.93', '3.92', '3.86', '3.80', '3.78', '3.74', '3.70', '3.65', '3.64', '3.61', '3.57', '3.57', '3.56', '3.53', '3.51']\n"
     ]
    }
   ],
   "source": [
    "Brand_tags=driver.find_elements(By.XPATH,\"//*[@id='mw-content-text']/div[1]/table[1]/tbody/tr/td[3]\")\n",
    "for i in  Brand_tags:\n",
    "        Brand=i.text\n",
    "        Views.append(Brand)\n",
    "print(len(Views), Views)\n"
   ]
  },
  {
   "cell_type": "code",
   "execution_count": null,
   "id": "0d5dc992",
   "metadata": {},
   "outputs": [],
   "source": []
  },
  {
   "cell_type": "code",
   "execution_count": 121,
   "id": "dd9f947d",
   "metadata": {},
   "outputs": [],
   "source": [
    "driver.quit()"
   ]
  },
  {
   "cell_type": "markdown",
   "id": "8054cabc",
   "metadata": {},
   "source": [
    "2. Scrape the details team India’s international fixtures from bcci.tv.\n",
    "Url = https://www.bcci.tv/.\n",
    "You need to find following details:\n",
    "A) Series\n",
    "B) Place\n",
    "C) Date\n",
    "D) Time\n",
    "Note: - From bcci.tv home page you have reach to the international fixture page through code"
   ]
  },
  {
   "cell_type": "code",
   "execution_count": 122,
   "id": "4b4040ec",
   "metadata": {},
   "outputs": [],
   "source": [
    "driver=webdriver.Chrome()"
   ]
  },
  {
   "cell_type": "code",
   "execution_count": 123,
   "id": "9bcd639c",
   "metadata": {},
   "outputs": [],
   "source": [
    "video_url = 'https://www.bcci.tv/'  \n",
    "driver.get(video_url)"
   ]
  },
  {
   "cell_type": "code",
   "execution_count": 124,
   "id": "8a468afa",
   "metadata": {},
   "outputs": [],
   "source": [
    "search=driver.find_element(By.XPATH,'/html/body/header/div[3]/div[2]/ul/div[1]/a[2]')\n",
    "search.click()"
   ]
  },
  {
   "cell_type": "code",
   "execution_count": 37,
   "id": "5916b14f",
   "metadata": {},
   "outputs": [],
   "source": [
    "Series=[]\n",
    "Place =[]\n",
    "Date=[]\n",
    "Time=[]"
   ]
  },
  {
   "cell_type": "code",
   "execution_count": 39,
   "id": "6919ec13",
   "metadata": {},
   "outputs": [
    {
     "name": "stdout",
     "output_type": "stream",
     "text": [
      "9 ['INDIA TOUR OF SOUTH AFRICA 2023-24', 'AUSTRALIA WOMEN TOUR OF INDIA 2023-24', 'AUSTRALIA WOMEN TOUR OF INDIA 2023-24', 'AUSTRALIA WOMEN TOUR OF INDIA 2023-24', 'INDIA TOUR OF SOUTH AFRICA 2023-24', 'AUSTRALIA WOMEN TOUR OF INDIA 2023-24', 'AUSTRALIA WOMEN TOUR OF INDIA 2023-24', 'AUSTRALIA WOMEN TOUR OF INDIA 2023-24', 'AFGHANISTAN TOUR OF INDIA 2023-24']\n"
     ]
    }
   ],
   "source": [
    "Brand_tags=driver.find_elements(By.XPATH,\"//h5[@class='match-tournament-name ng-binding']\")\n",
    "for i in  Brand_tags:\n",
    "        Brand=i.text\n",
    "        Series.append(Brand)\n",
    "print(len(Series),Series)\n"
   ]
  },
  {
   "cell_type": "code",
   "execution_count": 46,
   "id": "fb56d96b",
   "metadata": {},
   "outputs": [
    {
     "name": "stdout",
     "output_type": "stream",
     "text": [
      "16 ['Wankhede Stadium, Mumbai', 'Wankhede Stadium, Mumbai', 'Wankhede Stadium, Mumbai', 'Newlands, Cape Town', 'DY Patil Stadium, NAVI MUMBAI', 'DY Patil Stadium, NAVI MUMBAI', 'DY Patil Stadium, NAVI MUMBAI', 'Punjab Cricket Association IS Bindra Stadium, Mohali', 'Wankhede Stadium, Mumbai', 'Wankhede Stadium, Mumbai', 'Wankhede Stadium, Mumbai', 'Newlands, Cape Town', 'DY Patil Stadium, NAVI MUMBAI', 'DY Patil Stadium, NAVI MUMBAI', 'DY Patil Stadium, NAVI MUMBAI', 'Punjab Cricket Association IS Bindra Stadium, Mohali']\n"
     ]
    }
   ],
   "source": [
    "Brand_tags=driver.find_elements(By.XPATH,\"//div[@class='match-place ng-scope']\")\n",
    "for i in  Brand_tags:\n",
    "        Brand=i.text\n",
    "        Place.append(Brand)\n",
    "print(len(Place),Place)\n"
   ]
  },
  {
   "cell_type": "code",
   "execution_count": 41,
   "id": "21772300",
   "metadata": {},
   "outputs": [
    {
     "name": "stdout",
     "output_type": "stream",
     "text": [
      "9 ['26 DECEMBER, 2023', '28 DECEMBER, 2023', '30 DECEMBER, 2023', '2 JANUARY, 2024', '3 JANUARY, 2024', '5 JANUARY, 2024', '7 JANUARY, 2024', '9 JANUARY, 2024', '11 JANUARY, 2024']\n"
     ]
    }
   ],
   "source": [
    "Brand_tags=driver.find_elements(By.XPATH,\"//div[@class='match-dates ng-binding']\")\n",
    "for i in  Brand_tags:\n",
    "        Brand=i.text\n",
    "        Date.append(Brand)\n",
    "print(len(Date),Date)\n"
   ]
  },
  {
   "cell_type": "code",
   "execution_count": 42,
   "id": "2e38c496",
   "metadata": {},
   "outputs": [
    {
     "name": "stdout",
     "output_type": "stream",
     "text": [
      "9 ['1:30 PM IST', '2:00 PM IST', '2:00 PM IST', '2:00 PM IST', '1:30 PM IST', '7:00 PM IST', '7:00 PM IST', '7:00 PM IST', '7:00 PM IST']\n"
     ]
    }
   ],
   "source": [
    "Brand_tags=driver.find_elements(By.XPATH,\"//div[@class='match-time no-margin ng-binding']\")\n",
    "for i in  Brand_tags:\n",
    "        Brand=i.text\n",
    "        Time.append(Brand)\n",
    "print(len(Time),Time)\n",
    "\n",
    "\n"
   ]
  },
  {
   "cell_type": "code",
   "execution_count": 47,
   "id": "9414297d",
   "metadata": {},
   "outputs": [
    {
     "data": {
      "text/html": [
       "<div>\n",
       "<style scoped>\n",
       "    .dataframe tbody tr th:only-of-type {\n",
       "        vertical-align: middle;\n",
       "    }\n",
       "\n",
       "    .dataframe tbody tr th {\n",
       "        vertical-align: top;\n",
       "    }\n",
       "\n",
       "    .dataframe thead th {\n",
       "        text-align: right;\n",
       "    }\n",
       "</style>\n",
       "<table border=\"1\" class=\"dataframe\">\n",
       "  <thead>\n",
       "    <tr style=\"text-align: right;\">\n",
       "      <th></th>\n",
       "      <th>Series</th>\n",
       "      <th>Place</th>\n",
       "      <th>Date</th>\n",
       "      <th>Time</th>\n",
       "    </tr>\n",
       "  </thead>\n",
       "  <tbody>\n",
       "    <tr>\n",
       "      <th>0</th>\n",
       "      <td>INDIA TOUR OF SOUTH AFRICA 2023-24</td>\n",
       "      <td>Wankhede Stadium, Mumbai</td>\n",
       "      <td>26 DECEMBER, 2023</td>\n",
       "      <td>1:30 PM IST</td>\n",
       "    </tr>\n",
       "    <tr>\n",
       "      <th>1</th>\n",
       "      <td>AUSTRALIA WOMEN TOUR OF INDIA 2023-24</td>\n",
       "      <td>Wankhede Stadium, Mumbai</td>\n",
       "      <td>28 DECEMBER, 2023</td>\n",
       "      <td>2:00 PM IST</td>\n",
       "    </tr>\n",
       "    <tr>\n",
       "      <th>2</th>\n",
       "      <td>AUSTRALIA WOMEN TOUR OF INDIA 2023-24</td>\n",
       "      <td>Wankhede Stadium, Mumbai</td>\n",
       "      <td>30 DECEMBER, 2023</td>\n",
       "      <td>2:00 PM IST</td>\n",
       "    </tr>\n",
       "    <tr>\n",
       "      <th>3</th>\n",
       "      <td>AUSTRALIA WOMEN TOUR OF INDIA 2023-24</td>\n",
       "      <td>Newlands, Cape Town</td>\n",
       "      <td>2 JANUARY, 2024</td>\n",
       "      <td>2:00 PM IST</td>\n",
       "    </tr>\n",
       "    <tr>\n",
       "      <th>4</th>\n",
       "      <td>INDIA TOUR OF SOUTH AFRICA 2023-24</td>\n",
       "      <td>DY Patil Stadium, NAVI MUMBAI</td>\n",
       "      <td>3 JANUARY, 2024</td>\n",
       "      <td>1:30 PM IST</td>\n",
       "    </tr>\n",
       "    <tr>\n",
       "      <th>5</th>\n",
       "      <td>AUSTRALIA WOMEN TOUR OF INDIA 2023-24</td>\n",
       "      <td>DY Patil Stadium, NAVI MUMBAI</td>\n",
       "      <td>5 JANUARY, 2024</td>\n",
       "      <td>7:00 PM IST</td>\n",
       "    </tr>\n",
       "    <tr>\n",
       "      <th>6</th>\n",
       "      <td>AUSTRALIA WOMEN TOUR OF INDIA 2023-24</td>\n",
       "      <td>DY Patil Stadium, NAVI MUMBAI</td>\n",
       "      <td>7 JANUARY, 2024</td>\n",
       "      <td>7:00 PM IST</td>\n",
       "    </tr>\n",
       "    <tr>\n",
       "      <th>7</th>\n",
       "      <td>AUSTRALIA WOMEN TOUR OF INDIA 2023-24</td>\n",
       "      <td>Punjab Cricket Association IS Bindra Stadium, ...</td>\n",
       "      <td>9 JANUARY, 2024</td>\n",
       "      <td>7:00 PM IST</td>\n",
       "    </tr>\n",
       "  </tbody>\n",
       "</table>\n",
       "</div>"
      ],
      "text/plain": [
       "                                  Series  \\\n",
       "0     INDIA TOUR OF SOUTH AFRICA 2023-24   \n",
       "1  AUSTRALIA WOMEN TOUR OF INDIA 2023-24   \n",
       "2  AUSTRALIA WOMEN TOUR OF INDIA 2023-24   \n",
       "3  AUSTRALIA WOMEN TOUR OF INDIA 2023-24   \n",
       "4     INDIA TOUR OF SOUTH AFRICA 2023-24   \n",
       "5  AUSTRALIA WOMEN TOUR OF INDIA 2023-24   \n",
       "6  AUSTRALIA WOMEN TOUR OF INDIA 2023-24   \n",
       "7  AUSTRALIA WOMEN TOUR OF INDIA 2023-24   \n",
       "\n",
       "                                               Place               Date  \\\n",
       "0                           Wankhede Stadium, Mumbai  26 DECEMBER, 2023   \n",
       "1                           Wankhede Stadium, Mumbai  28 DECEMBER, 2023   \n",
       "2                           Wankhede Stadium, Mumbai  30 DECEMBER, 2023   \n",
       "3                                Newlands, Cape Town    2 JANUARY, 2024   \n",
       "4                      DY Patil Stadium, NAVI MUMBAI    3 JANUARY, 2024   \n",
       "5                      DY Patil Stadium, NAVI MUMBAI    5 JANUARY, 2024   \n",
       "6                      DY Patil Stadium, NAVI MUMBAI    7 JANUARY, 2024   \n",
       "7  Punjab Cricket Association IS Bindra Stadium, ...    9 JANUARY, 2024   \n",
       "\n",
       "          Time  \n",
       "0  1:30 PM IST  \n",
       "1  2:00 PM IST  \n",
       "2  2:00 PM IST  \n",
       "3  2:00 PM IST  \n",
       "4  1:30 PM IST  \n",
       "5  7:00 PM IST  \n",
       "6  7:00 PM IST  \n",
       "7  7:00 PM IST  "
      ]
     },
     "execution_count": 47,
     "metadata": {},
     "output_type": "execute_result"
    }
   ],
   "source": [
    "International_Fixtures=pd.DataFrame([])\n",
    "International_Fixtures['Series']=Series[:8]\n",
    "International_Fixtures['Place']=Place[:8]\n",
    "International_Fixtures['Date']=Date[:8]\n",
    "International_Fixtures['Time']=Time[:8]\n",
    "International_Fixtures"
   ]
  },
  {
   "cell_type": "code",
   "execution_count": 125,
   "id": "3cbbc8b8",
   "metadata": {},
   "outputs": [],
   "source": [
    "driver.quit()"
   ]
  },
  {
   "cell_type": "markdown",
   "id": "0f247ee8",
   "metadata": {},
   "source": [
    "3. Scrape the details of State-wise GDP of India from statisticstime.com.\n",
    "Url = http://statisticstimes.com/\n",
    "You have to find following details: A) Rank\n",
    "B) State\n",
    "C) GSDP(18-19)- at current prices\n",
    "D) GSDP(19-20)- at current prices\n",
    "E) Share(18-19)\n",
    "F) GDP($ billion)\n",
    "Note: - From statisticstimes home page you have to reach to economy page through code."
   ]
  },
  {
   "cell_type": "code",
   "execution_count": 126,
   "id": "213dfa66",
   "metadata": {},
   "outputs": [],
   "source": [
    "driver=webdriver.Chrome()"
   ]
  },
  {
   "cell_type": "code",
   "execution_count": 127,
   "id": "16f9107d",
   "metadata": {},
   "outputs": [],
   "source": [
    "video_url = 'http://statisticstimes.com/'  \n",
    "driver.get(video_url)"
   ]
  },
  {
   "cell_type": "code",
   "execution_count": 128,
   "id": "fdc447ef",
   "metadata": {},
   "outputs": [],
   "source": [
    "search=driver.find_element(By.XPATH,'/html/body/div[2]/div[1]/div[2]/div[2]/button')\n",
    "search.click()\n"
   ]
  },
  {
   "cell_type": "code",
   "execution_count": 129,
   "id": "9e1e15f7",
   "metadata": {},
   "outputs": [],
   "source": [
    "search=driver.find_element(By.XPATH,'/html/body/div[2]/div[1]/div[2]/div[2]/div/a[3]')\n",
    "search.click()\n"
   ]
  },
  {
   "cell_type": "code",
   "execution_count": null,
   "id": "810eccc0",
   "metadata": {},
   "outputs": [],
   "source": [
    "search=driver.find_element(By.XPATH,'/html/body/div[2]/div[2]/div[2]/ul/li[1]/a')\n",
    "search.click()"
   ]
  },
  {
   "cell_type": "code",
   "execution_count": 13,
   "id": "087dc084",
   "metadata": {},
   "outputs": [],
   "source": [
    "Rank=[]\n",
    "State =[]\n",
    "GDP=[]\n",
    "GSDP_Current=[]\n",
    "GSDP_Previous=[]\n",
    "Share=[]"
   ]
  },
  {
   "cell_type": "code",
   "execution_count": 77,
   "id": "e70f93dd",
   "metadata": {},
   "outputs": [
    {
     "name": "stdout",
     "output_type": "stream",
     "text": [
      "68 ['1', '2', '3', '4', '5', '6', '7', '8', '9', '10', '11', '12', '13', '14', '15', '16', '17', '18', '19', '20', '21', '22', '23', '24', '25', '26', '27', '28', '29', '30', '31', '32', '33', '', '1', '2', '3', '4', '5', '6', '7', '8', '9', '10', '11', '12', '13', '14', '15', '16', '17', '18', '19', '20', '21', '22', '23', '24', '25', '26', '27', '28', '29', '30', '31', '32', '33', '']\n"
     ]
    }
   ],
   "source": [
    "Brand_tags=driver.find_elements(By.XPATH,\"//td[@class='data1']\")\n",
    "for i in  Brand_tags:\n",
    "        Brand=i.text\n",
    "        Rank.append(Brand)\n",
    "print(len(Rank),Rank)\n"
   ]
  },
  {
   "cell_type": "code",
   "execution_count": 61,
   "id": "6cc3fed3",
   "metadata": {},
   "outputs": [
    {
     "name": "stdout",
     "output_type": "stream",
     "text": [
      "68 ['Maharashtra', 'Tamil Nadu', 'Uttar Pradesh', 'Karnataka', 'Gujarat', 'West Bengal', 'Rajasthan', 'Madhya Pradesh', 'Andhra Pradesh', 'Telangana', 'Kerala', 'Delhi', 'Haryana', 'Odisha', 'Bihar', 'Punjab', 'Assam', 'Chhattisgarh', 'Jharkhand', 'Uttarakhand', 'Jammu & Kashmir-UT', 'Himachal Pradesh', 'Goa', 'Tripura', 'Chandigarh', 'Puducherry', 'Meghalaya', 'Sikkim', 'Manipur', 'Arunachal Pradesh', 'Nagaland', 'Mizoram', 'Andaman & Nicobar Islands', 'India', 'Maharashtra', 'Tamil Nadu', 'Karnataka', 'Uttar Pradesh', 'Gujarat', 'West Bengal', 'Rajasthan', 'Madhya Pradesh', 'Telangana', 'Andhra Pradesh', 'Kerala', 'Delhi', 'Haryana', 'Bihar', 'Odisha', 'Punjab', 'Assam', 'Chhattisgarh', 'Jharkhand', 'Uttarakhand', 'Jammu & Kashmir-UT', 'Himachal Pradesh', 'Goa', 'Tripura', 'Chandigarh', 'Puducherry', 'Meghalaya', 'Manipur', 'Arunachal Pradesh', 'Sikkim', 'Nagaland', 'Mizoram', 'Andaman & Nicobar Islands', 'India']\n"
     ]
    }
   ],
   "source": [
    "Brand_tags=driver.find_elements(By.XPATH,\"//td[@class='name']\")\n",
    "for i in  Brand_tags:\n",
    "        Brand=i.text\n",
    "        State.append(Brand)\n",
    "print(len(State),State)\n"
   ]
  },
  {
   "cell_type": "code",
   "execution_count": 62,
   "id": "a42e728b",
   "metadata": {},
   "outputs": [
    {
     "name": "stdout",
     "output_type": "stream",
     "text": [
      "33 ['417.163', '278.011', '265.024', '263.440', '259.996', '183.068', '163.507', '152.494', '152.185', '151.523', '125.157', '121.422', '116.862', '90.047', '87.284', '82.442', '55.381', '54.550', '48.167', '36.530', '26.833', '23.659', '11.087', '8.396', '6.125', '5.938', '5.206', '5.041', '4.912', '4.714', '4.283', '3.735', '1.392']\n"
     ]
    }
   ],
   "source": [
    "Brand_tags=driver.find_elements(By.XPATH,\"//*[@id='table_id']/tbody/tr/td[6]\")\n",
    "for i in  Brand_tags:\n",
    "        Brand=i.text\n",
    "        GDP.append(Brand)\n",
    "print(len(GDP),GDP)\n"
   ]
  },
  {
   "cell_type": "code",
   "execution_count": 64,
   "id": "99218305",
   "metadata": {},
   "outputs": [
    {
     "name": "stdout",
     "output_type": "stream",
     "text": [
      "66 ['3,108,022', '2,071,286', '1,974,532', '1,962,725', '1,937,066', '1,363,926', '1,218,193', '1,136,137', '1,133,837', '1,128,907', '932,470', '904,642', '870,665', '670,881', '650,302', '614,227', '412,612', '406,416', '358,863', '272,159', '199,917', '176,269', '82,604', '62,550', '45,635', '44,238', '38,785', '37,557', '36,594', '35,124', '31,913', '27,824', '10,371', '-', '-', '-', '-', '-', '-', '-', '-', '-', '-', '-', '42,697', '42,756', '72,636', '195,405', '227,927', '302,621', '393,722', '457,608', '493,167', '673,107', '751,396', '774,869', '994,154', '1,043,759', '1,313,391', '1,317,728', '1,322,821', '1,413,620', '1,554,992', '2,241,368', '2,257,575', '2,364,514']\n"
     ]
    }
   ],
   "source": [
    "Brand_tags=driver.find_elements(By.XPATH,\"//*[@id='table_id']/tbody/tr/td[3]\")\n",
    "for i in  Brand_tags:\n",
    "        Brand=i.text\n",
    "        GSDP_Current.append(Brand)\n",
    "print(len(GSDP_Current),GSDP_Current)\n"
   ]
  },
  {
   "cell_type": "code",
   "execution_count": 65,
   "id": "f46cf2ad",
   "metadata": {},
   "outputs": [
    {
     "name": "stdout",
     "output_type": "stream",
     "text": [
      "33 ['2,027,971', '1,372,204', '572,747', '55,548', '30,287', '27,834', '20,515', '19,801', '18,363', '18,494', '7,172', '24,267', '20,728', '39,487', '126,433', '124,728', '193,412', '243,348', '267,681', '262,523', '433,769', '399,930', '432,960', '568,086', '597,765', '674,371', '704,889', '600,689', '738,922', '787,758', '1,229,713', '1,204,660', '1,343,287']\n"
     ]
    }
   ],
   "source": [
    "Brand_tags=driver.find_elements(By.XPATH,\"//*[@id='table_id']/tbody/tr/td[8]\")\n",
    "for i in  Brand_tags:\n",
    "        Brand=i.text\n",
    "        GSDP_Previous.append(Brand)\n",
    "print(len(GSDP_Previous),GSDP_Previous)\n"
   ]
  },
  {
   "cell_type": "code",
   "execution_count": 68,
   "id": "a771e492",
   "metadata": {},
   "outputs": [
    {
     "name": "stdout",
     "output_type": "stream",
     "text": [
      "101 ['', '1', '2', '3', '4', '5', '6', '7', '8', '9', '10', '11', '12', '13', '14', '15', '16', '17', '18', '19', '20', '21', '22', '23', '24', '25', '26', '27', '28', '29', '30', '31', '32', '33', '', '13.24%', '8.82%', '8.41%', '8.36%', '8.25%', '5.81%', '5.19%', '4.84%', '4.83%', '4.81%', '3.97%', '3.85%', '3.71%', '2.86%', '2.77%', '2.62%', '1.76%', '1.73%', '1.53%', '1.16%', '0.85%', '0.75%', '0.35%', '0.27%', '0.19%', '0.19%', '0.17%', '0.16%', '0.16%', '0.15%', '0.14%', '0.12%', '0.04%', '13.24%', '8.82%', '8.41%', '8.36%', '8.25%', '5.81%', '5.19%', '4.84%', '4.83%', '4.81%', '3.97%', '3.85%', '3.71%', '2.86%', '2.77%', '2.62%', '1.76%', '1.73%', '1.53%', '1.16%', '0.85%', '0.75%', '0.35%', '0.27%', '0.19%', '0.19%', '0.17%', '0.16%', '0.16%', '0.15%', '0.14%', '0.12%', '0.04%']\n"
     ]
    }
   ],
   "source": [
    "Brand_tags=driver.find_elements(By.XPATH,\"//*[@id='table_id']/tbody/tr/td[5]\")\n",
    "for i in  Brand_tags:\n",
    "        Brand=i.text\n",
    "        Share.append(Brand)\n",
    "print(len(Share),Share)\n"
   ]
  },
  {
   "cell_type": "code",
   "execution_count": null,
   "id": "59dc0357",
   "metadata": {},
   "outputs": [],
   "source": [
    "State_GDP=pd.DataFrame([])\n",
    "State_GDP['Rank']=Rank[:33]\n",
    "State_GDP['State']=State[:33]\n",
    "State_GDP['Share In GDP']=Share[:33]\n",
    "State_GDP['GDP($ billion)']=GDP[:33]\n",
    "State_GDP['GSDP_Current']=GSDP_Current[:33]\n",
    "State_GDP['GSDP_Previous']=GSDP_Previous[:33]\n",
    "State_GDP"
   ]
  },
  {
   "cell_type": "code",
   "execution_count": 15,
   "id": "7a92b745",
   "metadata": {},
   "outputs": [],
   "source": [
    "driver.quit()"
   ]
  },
  {
   "cell_type": "code",
   "execution_count": null,
   "id": "c58a4f2c",
   "metadata": {},
   "outputs": [],
   "source": [
    "4. Scrape the details of trending repositories on Github.com.\n",
    "Url = https://github.com/\n",
    "You have to find the following details:\n",
    "A) Repository title\n",
    "B) Repository description\n",
    "C) Contributors count\n",
    "D) Language used\n",
    "Note: - From the home page you have to click on the trending option from Explore menu through code."
   ]
  },
  {
   "cell_type": "code",
   "execution_count": 145,
   "id": "24d7d6bb",
   "metadata": {},
   "outputs": [],
   "source": [
    "driver=webdriver.Chrome()"
   ]
  },
  {
   "cell_type": "code",
   "execution_count": 146,
   "id": "290b8a5d",
   "metadata": {},
   "outputs": [],
   "source": [
    "video_url = 'https://github.com/'  \n",
    "driver.get(video_url)"
   ]
  },
  {
   "cell_type": "code",
   "execution_count": 152,
   "id": "4f4bcfbf",
   "metadata": {},
   "outputs": [],
   "source": [
    "Repository_Name =[]\n",
    "Description=[]\n",
    "Language=[]\n",
    "Muted_Link=[]"
   ]
  },
  {
   "cell_type": "code",
   "execution_count": 153,
   "id": "5da28a85",
   "metadata": {},
   "outputs": [],
   "source": [
    "explore = driver.find_element(By.XPATH,'/html/body/div[1]/div[1]/header/div/div[2]/div/nav/ul/li[3]')       # Locating page foe top videos by xpath\n",
    "\n",
    "explore.click()\n"
   ]
  },
  {
   "cell_type": "code",
   "execution_count": 149,
   "id": "1a057fe5",
   "metadata": {},
   "outputs": [],
   "source": [
    "trending = driver.find_element(By.XPATH,'/html/body/div[1]/div[1]/header/div/div[2]/div/nav/ul/li[3]/div/div[3]/ul/li[2]/a')       # Locating page foe top videos by xpath\n",
    "trending.click()"
   ]
  },
  {
   "cell_type": "code",
   "execution_count": 151,
   "id": "7e8142d4",
   "metadata": {},
   "outputs": [
    {
     "name": "stdout",
     "output_type": "stream",
     "text": [
      "25 ['cumulo-autumn / StreamDiffusion', 'apple / ml-ferret', 'JoeanAmier / TikTokDownloader', 'Pythagora-io / gpt-pilot', 'Enraged-Rabbit-Community / ERCF_v2', 'Hillobar / Rope', 'mnotgod96 / AppAgent', 'heyman / heynote', 'microsoft / promptbench', 'Innei / Shiro', 'JShollaj / awesome-llm-interpretability', 'SoftFever / OrcaSlicer', 'langgenius / dify', 'kilimchoi / engineering-blogs', 'Coder-World04 / Complete-System-Design', 'simondankelmann / Bluetooth-LE-Spam', 'Z3Prover / z3', 'karanpratapsingh / system-design', 'elifgazioglu / doyouwannagooutwithme', 'jianchang512 / clone-voice', 'AmruthPillai / Reactive-Resume', 'home-assistant / core', 'be5invis / Iosevka', 'opa334 / TrollStore', 'firstcontributions / first-contributions']\n"
     ]
    }
   ],
   "source": [
    "Brand_tags=driver.find_elements(By.XPATH,\"//a[@class='Link']\")\n",
    "for i in  Brand_tags:\n",
    "        Brand=i.text\n",
    "        Repository_Name.append(Brand)\n",
    "print(len(Repository_Name),Repository_Name)\n"
   ]
  },
  {
   "cell_type": "code",
   "execution_count": 154,
   "id": "18ee2cbe",
   "metadata": {},
   "outputs": [
    {
     "name": "stdout",
     "output_type": "stream",
     "text": [
      "22 ['StreamDiffusion: A Pipeline-Level Solution for Real-Time Interactive Generation', '完全免费开源，基于 Requests 模块实现：TikTok 主页/视频/图集/原声；抖音主页/视频/图集/收藏/直播/原声/合集/评论/账号/搜索/热榜数据采集工具', 'Dev tool that writes scalable apps from scratch while the developer oversees the implementation', 'Community designed ERCF v2', 'GUI-focused roop', 'AppAgent: Multimodal Agents as Smartphone Users, an LLM-based multimodal agent framework designed to operate smartphone apps.', 'A dedicated scratchpad for developers', 'A unified evaluation framework for large language models', '📜 A minimalist personal website embodying the purity of paper and freshness of snow.', 'A curated list of Large Language Model (LLM) Interpretability resources.', 'G-code generator for 3D printers (Bambu, Prusa, Voron, VzBot, RatRig, Creality, etc.)', 'An Open-Source Assistants API and GPTs alternative. Dify.AI is an LLM application development platform. It integrates the concepts of Backend as a Service and LLMOps, covering the core tech stack required for building generative AI-native applications, including a built-in RAG engine.', 'A curated list of engineering blogs', 'This repository contains everything you need to become proficient in System Design', 'The Z3 Theorem Prover', 'Learn how to design systems at scale and prepare for system design interviews', 'A sound cloning tool with a web interface, using your voice or any sound to record audio / 一个带web界面的声音克隆工具，使用你的音色或任意声音来录制音频', 'A one-of-a-kind resume builder that keeps your privacy in mind. Completely secure, customizable, portable, open-source and free forever. Try it out today!', '🏡 Open source home automation that puts local control and privacy first.', 'Versatile typeface for code, from code.', 'Jailed iOS app that can install IPAs permanently with arbitary entitlements and root helpers because it trolls Apple', '🚀✨ Help beginners to contribute to open source projects']\n"
     ]
    }
   ],
   "source": [
    "Brand_tags=driver.find_elements(By.XPATH,\"//p[@class='col-9 color-fg-muted my-1 pr-4']\")\n",
    "for i in  Brand_tags:\n",
    "        Brand=i.text\n",
    "        Description.append(Brand)\n",
    "print(len(Description),Description)"
   ]
  },
  {
   "cell_type": "code",
   "execution_count": 155,
   "id": "86029d26",
   "metadata": {},
   "outputs": [
    {
     "name": "stdout",
     "output_type": "stream",
     "text": [
      "20 ['Python', 'Python', 'Python', 'Python', 'Python', 'Python', 'JavaScript', 'Python', 'TypeScript', 'C++', 'TypeScript', 'Ruby', 'Kotlin', 'C++', 'HTML', 'Python', 'TypeScript', 'Python', 'JavaScript', 'C']\n"
     ]
    }
   ],
   "source": [
    "Brand_tags=driver.find_elements(By.XPATH,\"//span[@itemprop='programmingLanguage']\")\n",
    "for i in  Brand_tags:\n",
    "        Brand=i.text\n",
    "        Language.append(Brand)\n",
    "print(len(Language),Language)"
   ]
  },
  {
   "cell_type": "code",
   "execution_count": 157,
   "id": "9fe898b8",
   "metadata": {},
   "outputs": [
    {
     "name": "stdout",
     "output_type": "stream",
     "text": [
      "50 ['5,329', '337', '4,398', '186', '2,722', '439', '18,147', '1,493', '314', '31', '1,294', '213', '1,939', '168', '1,666', '64', '1,121', '83', '1,222', '200', '617', '53', '3,376', '387', '13,121', '1,730', '27,164', '1,219', '2,638', '338', '2,363', '209', '9,377', '1,436', '24,550', '2,337', '380', '109', '3,847', '329', '15,893', '1,857', '65,261', '26,289', '17,628', '559', '13,529', '942', '40,396', '69,815']\n"
     ]
    }
   ],
   "source": [
    "Brand_tags=driver.find_elements(By.XPATH,\"//a[@class='Link Link--muted d-inline-block mr-3']\")\n",
    "for i in  Brand_tags:\n",
    "        Brand=i.text\n",
    "        Muted_Link.append(Brand)\n",
    "print(len( Muted_Link), Muted_Link)"
   ]
  },
  {
   "cell_type": "code",
   "execution_count": 176,
   "id": "4d88f438",
   "metadata": {},
   "outputs": [],
   "source": [
    "driver.quit()"
   ]
  },
  {
   "cell_type": "code",
   "execution_count": null,
   "id": "f556d040",
   "metadata": {},
   "outputs": [],
   "source": [
    "5. Scrape the details of top 100 songs on billiboard.com. Url = https:/www.billboard.com/ You have to find the following details:\n",
    "A) Song name\n",
    "B) Artist name\n",
    "C) Last week rank\n",
    "D) Peak rank\n",
    "E) Weeks on board\n",
    "Note: - From the home page you have to click on the charts option then hot 100-page link through code."
   ]
  },
  {
   "cell_type": "code",
   "execution_count": 2,
   "id": "2dcef589",
   "metadata": {},
   "outputs": [],
   "source": [
    "driver=webdriver.Chrome()"
   ]
  },
  {
   "cell_type": "code",
   "execution_count": 3,
   "id": "778ab791",
   "metadata": {},
   "outputs": [],
   "source": [
    "video_url = ' https:/www.billboard.com/'  \n",
    "driver.get(video_url)"
   ]
  },
  {
   "cell_type": "code",
   "execution_count": 4,
   "id": "bfc927db",
   "metadata": {},
   "outputs": [],
   "source": [
    "Song_Name =[]\n",
    "Singer=[]\n",
    "peak_rank=[]\n",
    "Last_Week=[]\n",
    "Weeks_on_board=[]"
   ]
  },
  {
   "cell_type": "code",
   "execution_count": 5,
   "id": "3a8d1bf9",
   "metadata": {},
   "outputs": [],
   "source": [
    "top100 = driver.find_element(By.XPATH,'//html/body/div[3]/header/div/div[2]/div/div/div[2]/div[2]/div/div/nav/ul/li[1]/a')       # Locating page foe top videos by xpath\n",
    "top100.click()"
   ]
  },
  {
   "cell_type": "code",
   "execution_count": 7,
   "id": "4e7e3fc8",
   "metadata": {},
   "outputs": [],
   "source": [
    "top100 = driver.find_element(By.XPATH,'/html/body/div[3]/main/div[2]/div[1]/div[1]/div/div/div[3]/a')       # Locating page foe top videos by xpath\n",
    "top100.click()\n"
   ]
  },
  {
   "cell_type": "code",
   "execution_count": 183,
   "id": "075f4dae",
   "metadata": {},
   "outputs": [
    {
     "name": "stdout",
     "output_type": "stream",
     "text": [
      "100 ['All I Want For Christmas Is You', \"Rockin' Around The Christmas Tree\", 'Jingle Bell Rock', 'Last Christmas', 'A Holly Jolly Christmas', 'Lovin On Me', \"It's The Most Wonderful Time Of The Year\", 'Let It Snow, Let It Snow, Let It Snow!', 'Feliz Navidad', 'Sleigh Ride', 'The Christmas Song (Merry Christmas To You)', 'Santa Tell Me', 'Underneath The Tree', \"It's Beginning To Look A Lot Like Christmas\", 'White Christmas', 'Jingle Bells', 'Christmas (Baby Please Come Home)', 'Cruel Summer', 'Greedy', 'Snooze', 'Paint The Town Red', 'Here Comes Santa Claus (Right Down Santa Claus Lane)', 'Deck The Halls', \"It's Beginning To Look A Lot Like Christmas\", 'Blue Christmas', 'Water', 'Run Rudolph Run', 'I Remember Everything', 'Agora Hills', 'Santa Baby', 'Little Saint Nick', 'Please Come Home For Christmas', 'Last Night', \"You're A Mean One, Mr. Grinch\", \"Santa Claus Is Comin' To Town\", 'Wonderful Christmastime', \"Thinkin' Bout Me\", 'Rudolph The Red-Nosed Reindeer', 'Everybody', \"Is It Over Now? (Taylor's Version) [From The Vault]\", 'Lose Control', 'FTCU', \"Like It's Christmas\", 'Happy Holiday / The Holiday Season', 'This Christmas', 'Fast Car', 'Lil Boo Thang', 'Happy Xmas (War Is Over)', 'What Was I Made For?', 'Rich Baby Daddy', 'First Person Shooter', 'White Horse', 'Stick Season', 'Used To Be Young', 'World On Fire', 'Good Good', 'Houdini', 'My Love Mine All Mine', 'Pretty Little Poison', 'Exes', 'Surround Sound', 'On My Mama', 'IDGAF', 'Monaco', 'Needle', 'Strangers', 'Wild Ones', 'Get Him Back!', 'Harley Quinn', 'You Broke My Heart', 'Bellakeo', 'Truck Bed', 'Save Me The Trouble', 'Beep Beep', '500lbs', 'La Diabla', \"You're Losing Me (From The Vault)\", 'Where The Wild Things Are', 'Standing Next To You', 'The Painter', 'Jingle Bells', 'Qlona', 'Crazy', 'Never Lose Me', 'Lace It', 'Burn It Down', \"Can't Catch Me Now\", 'Mind On You', 'Segun Quien', 'Feather', 'La Victima', 'Hey Driver', 'Wondering Why', 'DJ Play A Christmas Song', \"Different 'Round Here\", 'Winter Wonderland', 'Run For The Hills', 'Que Onda', 'Great Gatsby', 'One Of The Girls']\n"
     ]
    }
   ],
   "source": [
    "Brand_tags=driver.find_elements(By.XPATH,'//ul[@class=\"lrv-a-unstyle-list lrv-u-flex lrv-u-height-100p lrv-u-flex-direction-column@mobile-max\"][1]/li[1]/h3[1]')\n",
    "for i in  Brand_tags:\n",
    "        Brand=i.text\n",
    "        Song_Name.append(Brand)\n",
    "print(len(Song_Name),Song_Name )"
   ]
  },
  {
   "cell_type": "code",
   "execution_count": 186,
   "id": "b0ddb981",
   "metadata": {},
   "outputs": [
    {
     "name": "stdout",
     "output_type": "stream",
     "text": [
      "199 ['Brenda Lee', 'Bobby Helms', 'Wham!', 'Burl Ives', 'Jack Harlow', 'Andy Williams', 'Dean Martin', 'Jose Feliciano', 'The Ronettes', 'Nat King Cole', 'Ariana Grande', 'Kelly Clarkson', 'Perry Como And The Fontane Sisters With Mitchell Ayres And His Orchestra', 'Bing Crosby With Ken Darby Singers & John Scott Trotter & His Orchestra', 'Frank Sinatra With Orchestra Conducted By Gordon Jenkins', 'Darlene Love', 'Taylor Swift', 'Tate McRae', 'SZA', 'Doja Cat', 'Gene Autry', 'Nat King Cole', 'Michael Buble', 'Elvis Presley', 'Tyla', 'Chuck Berry', 'Zach Bryan Featuring Kacey Musgraves', 'Doja Cat', 'Eartha Kitt With Henri Rene And His Orchestra', 'The Beach Boys', 'Eagles', 'Morgan Wallen', 'Thurl Ravenscroft', 'Jackson 5', 'Paul McCartney', 'Morgan Wallen', 'Gene Autry & The Pinafores', 'Nicki Minaj Featuring Lil Uzi Vert', 'Taylor Swift', 'Teddy Swims', 'Nicki Minaj', 'Jonas Brothers', 'Andy Williams', 'Donny Hathaway', 'Luke Combs', 'Paul Russell', 'John & Yoko/The Plastic Ono Band With The Harlem Community Choir', 'Billie Eilish', 'Drake Featuring Sexyy Red & SZA', 'Drake Featuring J. Cole', 'Chris Stapleton', 'Noah Kahan', 'Miley Cyrus', 'Nate Smith', 'Usher, Summer Walker & 21 Savage', 'Dua Lipa', 'Mitski', 'Warren Zeiders', 'Tate McRae', 'JID Featuring 21 Savage & Baby Tate', 'Victoria Monet', 'Drake Featuring Yeat', 'Bad Bunny', 'Nicki Minaj Featuring Drake', 'Kenya Grace', 'Jessie Murph & Jelly Roll', 'Olivia Rodrigo', 'Fuerza Regida & Marshmello', 'Drake', 'Peso Pluma & Anitta', 'HARDY', 'Dan + Shay', 'Nicki Minaj', 'Lil Tecca', 'Xavi', 'Taylor Swift', 'Luke Combs', 'Jung Kook', 'Cody Johnson', 'Meghan Trainor', 'Karol G & Peso Pluma', 'Lil Baby', 'Flo Milli', 'Juice WRLD, Eminem & benny blanco', 'Parker McCollum', 'Olivia Rodrigo', 'George Birge', 'Maluma & Carin Leon', 'Sabrina Carpenter', 'Xavi', 'Zach Bryan Featuring The War And Treaty', 'The Red Clay Strays', 'Cher', 'Riley Green Featuring Luke Combs', 'Chloe', 'Tate McRae', 'Calle 24 x Chino Pacas x Fuerza Regida', 'Rod Wave', 'The Weeknd, JENNIE & Lily Rose Depp', 'Mariah Carey', 'Brenda Lee', 'Bobby Helms', 'Wham!', 'Burl Ives', 'Jack Harlow', 'Andy Williams', 'Dean Martin', 'Jose Feliciano', 'The Ronettes', 'Nat King Cole', 'Ariana Grande', 'Kelly Clarkson', 'Perry Como And The Fontane Sisters With Mitchell Ayres And His Orchestra', 'Bing Crosby With Ken Darby Singers & John Scott Trotter & His Orchestra', 'Frank Sinatra With Orchestra Conducted By Gordon Jenkins', 'Darlene Love', 'Taylor Swift', 'Tate McRae', 'SZA', 'Doja Cat', 'Gene Autry', 'Nat King Cole', 'Michael Buble', 'Elvis Presley', 'Tyla', 'Chuck Berry', 'Zach Bryan Featuring Kacey Musgraves', 'Doja Cat', 'Eartha Kitt With Henri Rene And His Orchestra', 'The Beach Boys', 'Eagles', 'Morgan Wallen', 'Thurl Ravenscroft', 'Jackson 5', 'Paul McCartney', 'Morgan Wallen', 'Gene Autry & The Pinafores', 'Nicki Minaj Featuring Lil Uzi Vert', 'Taylor Swift', 'Teddy Swims', 'Nicki Minaj', 'Jonas Brothers', 'Andy Williams', 'Donny Hathaway', 'Luke Combs', 'Paul Russell', 'John & Yoko/The Plastic Ono Band With The Harlem Community Choir', 'Billie Eilish', 'Drake Featuring Sexyy Red & SZA', 'Drake Featuring J. Cole', 'Chris Stapleton', 'Noah Kahan', 'Miley Cyrus', 'Nate Smith', 'Usher, Summer Walker & 21 Savage', 'Dua Lipa', 'Mitski', 'Warren Zeiders', 'Tate McRae', 'JID Featuring 21 Savage & Baby Tate', 'Victoria Monet', 'Drake Featuring Yeat', 'Bad Bunny', 'Nicki Minaj Featuring Drake', 'Kenya Grace', 'Jessie Murph & Jelly Roll', 'Olivia Rodrigo', 'Fuerza Regida & Marshmello', 'Drake', 'Peso Pluma & Anitta', 'HARDY', 'Dan + Shay', 'Nicki Minaj', 'Lil Tecca', 'Xavi', 'Taylor Swift', 'Luke Combs', 'Jung Kook', 'Cody Johnson', 'Meghan Trainor', 'Karol G & Peso Pluma', 'Lil Baby', 'Flo Milli', 'Juice WRLD, Eminem & benny blanco', 'Parker McCollum', 'Olivia Rodrigo', 'George Birge', 'Maluma & Carin Leon', 'Sabrina Carpenter', 'Xavi', 'Zach Bryan Featuring The War And Treaty', 'The Red Clay Strays', 'Cher', 'Riley Green Featuring Luke Combs', 'Chloe', 'Tate McRae', 'Calle 24 x Chino Pacas x Fuerza Regida', 'Rod Wave', 'The Weeknd, JENNIE & Lily Rose Depp']\n"
     ]
    }
   ],
   "source": [
    "Brand_tags=driver.find_elements(By.XPATH,'//li[@class=\"lrv-u-width-100p\"]/ul/li[1]/span')\n",
    "for i in  Brand_tags:\n",
    "        Brand=i.text\n",
    "        Singer.append(Brand)\n",
    "print(len(Singer),Singer)"
   ]
  },
  {
   "cell_type": "code",
   "execution_count": 8,
   "id": "1a68ad27",
   "metadata": {},
   "outputs": [
    {
     "name": "stdout",
     "output_type": "stream",
     "text": [
      "100 ['1', '1', '3', '4', '4', '1', '5', '8', '6', '8', '9', '12', '11', '12', '12', '16', '15', '1', '7', '2', '1', '22', '16', '19', '24', '10', '10', '1', '14', '30', '29', '18', '1', '31', '33', '28', '7', '16', '26', '1', '39', '42', '43', '18', '37', '2', '23', '38', '14', '11', '1', '12', '31', '8', '47', '25', '11', '26', '46', '34', '61', '48', '2', '5', '34', '52', '42', '11', '40', '11', '71', '55', '73', '64', '51', '76', '27', '78', '5', '55', '81', '28', '83', '84', '85', '77', '56', '88', '68', '90', '91', '14', '93', '94', '95', '96', '69', '61', '30', '100']\n"
     ]
    }
   ],
   "source": [
    "Brand_tags=driver.find_elements(By.XPATH, '//li[@class=\"o-chart-results-list__item // a-chart-bg-color a-chart-color u-width-72 u-width-55@mobile-max u-width-55@tablet-only lrv-u-flex lrv-u-flex-shrink-0 lrv-u-align-items-center lrv-u-justify-content-center lrv-u-background-color-grey-lightest lrv-u-border-b-1 u-border-b-0@mobile-max lrv-u-border-color-grey-light u-hidden@mobile-max\"][2]/span')\n",
    "for i in  Brand_tags:\n",
    "        Brand=i.text\n",
    "        peak_rank.append(Brand)\n",
    "print(len(peak_rank),peak_rank)"
   ]
  },
  {
   "cell_type": "code",
   "execution_count": 192,
   "id": "434d6e18",
   "metadata": {},
   "outputs": [
    {
     "name": "stdout",
     "output_type": "stream",
     "text": [
      "100 ['1', '2', '3', '4', '5', '6', '7', '10', '12', '8', '15', '14', '11', '24', '23', '20', '18', '13', '9', '16', '17', '25', '28', '19', '27', '21', '38', '22', '30', '31', '40', '45', '29', '41', '37', '35', '32', '33', '26', '36', '47', '42', '46', '49', '-', '39', '43', '-', '53', '44', '51', '55', '54', '52', '62', '56', '59', '61', '71', '57', '72', '70', '66', '67', '34', '78', '77', '79', '76', '83', '-', '85', '96', '64', '81', '-', '68', '90', '99', '88', '-', '86', '-', '-', '-', '93', '84', '-', '91', '94', '-', '97', '-', '-', '-', '-', '69', '92', '-', '-']\n"
     ]
    }
   ],
   "source": [
    "Brand_tags=driver.find_elements(By.XPATH,'//li[@class=\"o-chart-results-list__item // a-chart-color u-width-72 u-width-55@mobile-max u-width-55@tablet-only lrv-u-flex lrv-u-flex-shrink-0 lrv-u-align-items-center lrv-u-justify-content-center lrv-u-border-b-1 u-border-b-0@mobile-max lrv-u-border-color-grey-light u-background-color-white-064@mobile-max u-hidden@mobile-max\"][1]/span')\n",
    "for i in  Brand_tags:\n",
    "        Brand=i.text\n",
    "        Last_Week.append(Brand)\n",
    "print(len(Last_Week),Last_Week)"
   ]
  },
  {
   "cell_type": "code",
   "execution_count": 9,
   "id": "8698762d",
   "metadata": {},
   "outputs": [
    {
     "name": "stdout",
     "output_type": "stream",
     "text": [
      "100 ['64', '57', '55', '37', '38', '6', '38', '30', '31', '27', '43', '23', '26', '22', '34', '13', '21', '33', '14', '54', '20', '19', '12', '19', '12', '12', '21', '17', '13', '8', '7', '14', '47', '11', '10', '12', '42', '26', '2', '8', '19', '2', '6', '18', '4', '39', '14', '5', '23', '11', '11', '22', '12', '17', '8', '19', '6', '13', '15', '5', '6', '14', '11', '10', '2', '14', '11', '15', '7', '5', '1', '27', '8', '2', '13', '1', '4', '5', '7', '11', '1', '19', '1', '1', '1', '9', '7', '1', '12', '3', '1', '17', '1', '1', '4', '1', '2', '12', '13', '1']\n"
     ]
    }
   ],
   "source": [
    "Brand_tags=driver.find_elements(By.XPATH,'//li[@class=\"o-chart-results-list__item // a-chart-color u-width-72 u-width-55@mobile-max u-width-55@tablet-only lrv-u-flex lrv-u-flex-shrink-0 lrv-u-align-items-center lrv-u-justify-content-center lrv-u-border-b-1 u-border-b-0@mobile-max lrv-u-border-color-grey-light u-background-color-white-064@mobile-max u-hidden@mobile-max\"][2]/span')\n",
    "for i in  Brand_tags:\n",
    "        Brand=i.text\n",
    "        Weeks_on_board.append(Brand)\n",
    "print(len(Weeks_on_board),Weeks_on_board)"
   ]
  },
  {
   "cell_type": "code",
   "execution_count": null,
   "id": "eca5d3e9",
   "metadata": {},
   "outputs": [],
   "source": []
  },
  {
   "cell_type": "code",
   "execution_count": null,
   "id": "8cc91f4e",
   "metadata": {},
   "outputs": [],
   "source": []
  },
  {
   "cell_type": "code",
   "execution_count": 10,
   "id": "dc924e4f",
   "metadata": {},
   "outputs": [],
   "source": [
    "driver.quit()"
   ]
  },
  {
   "cell_type": "code",
   "execution_count": 1,
   "id": "6e652559",
   "metadata": {},
   "outputs": [],
   "source": [
    "import selenium\n",
    "import pandas as pd\n",
    "from selenium import webdriver\n",
    "from selenium.webdriver.support import expected_conditions as EC\n",
    "from selenium.webdriver.support.ui import WebDriverWait\n",
    "from selenium.webdriver.common.keys import Keys\n",
    "from selenium.webdriver.chrome.service import Service\n",
    "from selenium.common.exceptions import StaleElementReferenceException, NoSuchElementException\n",
    "import warnings\n",
    "warnings.filterwarnings('ignore')\n",
    "from selenium.webdriver.common.by import By\n",
    "import time\n",
    "import re"
   ]
  },
  {
   "cell_type": "code",
   "execution_count": null,
   "id": "5d56f3e6",
   "metadata": {},
   "outputs": [],
   "source": [
    "6. Scrape the details of Highest selling novels.\n",
    "A) Book name\n",
    "B) Author name\n",
    "C) Volumes sold\n",
    "D) Publisher\n",
    "E) Genre\n",
    "Url - https://www.theguardian.com/news/datablog/2012/aug/09/best-selling-books-all-time-fifty-shades-grey-compare"
   ]
  },
  {
   "cell_type": "code",
   "execution_count": 13,
   "id": "212c7790",
   "metadata": {},
   "outputs": [],
   "source": [
    "driver=webdriver.Chrome()"
   ]
  },
  {
   "cell_type": "code",
   "execution_count": 14,
   "id": "7380a9be",
   "metadata": {},
   "outputs": [],
   "source": [
    "video_url = 'https://www.theguardian.com/news/datablog/2012/aug/09/best-selling-books-all-time-fifty-shades-grey-compare'  \n",
    "driver.get(video_url)"
   ]
  },
  {
   "cell_type": "code",
   "execution_count": 15,
   "id": "d370ca42",
   "metadata": {},
   "outputs": [],
   "source": [
    "Book_name=[]\n",
    "Author_name=[]\n",
    "Volumes_sold=[]\n",
    "Publisher=[]\n",
    "Genre=[]\n"
   ]
  },
  {
   "cell_type": "code",
   "execution_count": 17,
   "id": "4ec90b05",
   "metadata": {},
   "outputs": [
    {
     "name": "stdout",
     "output_type": "stream",
     "text": [
      "100 ['Da Vinci Code,The', 'Harry Potter and the Deathly Hallows', \"Harry Potter and the Philosopher's Stone\", 'Harry Potter and the Order of the Phoenix', 'Fifty Shades of Grey', 'Harry Potter and the Goblet of Fire', 'Harry Potter and the Chamber of Secrets', 'Harry Potter and the Prisoner of Azkaban', 'Angels and Demons', \"Harry Potter and the Half-blood Prince:Children's Edition\", 'Fifty Shades Darker', 'Twilight', 'Girl with the Dragon Tattoo,The:Millennium Trilogy', 'Fifty Shades Freed', 'Lost Symbol,The', 'New Moon', 'Deception Point', 'Eclipse', 'Lovely Bones,The', 'Curious Incident of the Dog in the Night-time,The', 'Digital Fortress', 'Short History of Nearly Everything,A', 'Girl Who Played with Fire,The:Millennium Trilogy', 'Breaking Dawn', 'Very Hungry Caterpillar,The:The Very Hungry Caterpillar', 'Gruffalo,The', \"Jamie's 30-Minute Meals\", 'Kite Runner,The', 'One Day', 'Thousand Splendid Suns,A', \"Girl Who Kicked the Hornets' Nest,The:Millennium Trilogy\", \"Time Traveler's Wife,The\", 'Atonement', \"Bridget Jones's Diary:A Novel\", 'World According to Clarkson,The', \"Captain Corelli's Mandolin\", 'Sound of Laughter,The', 'Life of Pi', 'Billy Connolly', 'Child Called It,A', \"Gruffalo's Child,The\", \"Angela's Ashes:A Memoir of a Childhood\", 'Birdsong', 'Northern Lights:His Dark Materials S.', 'Labyrinth', 'Harry Potter and the Half-blood Prince', 'Help,The', 'Man and Boy', 'Memoirs of a Geisha', \"No.1 Ladies' Detective Agency,The:No.1 Ladies' Detective Agency S.\", 'Island,The', 'PS, I Love You', 'You are What You Eat:The Plan That Will Change Your Life', 'Shadow of the Wind,The', 'Tales of Beedle the Bard,The', 'Broker,The', \"Dr. Atkins' New Diet Revolution:The No-hunger, Luxurious Weight Loss P\", 'Subtle Knife,The:His Dark Materials S.', 'Eats, Shoots and Leaves:The Zero Tolerance Approach to Punctuation', \"Delia's How to Cook:(Bk.1)\", 'Chocolat', 'Boy in the Striped Pyjamas,The', \"My Sister's Keeper\", 'Amber Spyglass,The:His Dark Materials S.', 'To Kill a Mockingbird', 'Men are from Mars, Women are from Venus:A Practical Guide for Improvin', 'Dear Fatty', 'Short History of Tractors in Ukrainian,A', 'Hannibal', 'Lord of the Rings,The', 'Stupid White Men:...and Other Sorry Excuses for the State of the Natio', 'Interpretation of Murder,The', 'Sharon Osbourne Extreme:My Autobiography', 'Alchemist,The:A Fable About Following Your Dream', \"At My Mother's Knee ...:and Other Low Joints\", 'Notes from a Small Island', 'Return of the Naked Chef,The', 'Bridget Jones: The Edge of Reason', \"Jamie's Italy\", 'I Can Make You Thin', 'Down Under', 'Summons,The', 'Small Island', 'Nigella Express', 'Brick Lane', \"Memory Keeper's Daughter,The\", 'Room on the Broom', 'About a Boy', 'My Booky Wook', 'God Delusion,The', '\"Beano\" Annual,The', 'White Teeth', 'House at Riverton,The', 'Book Thief,The', 'Nights of Rain and Stars', 'Ghost,The', 'Happy Days with the Naked Chef', 'Hunger Games,The:Hunger Games Trilogy', \"Lost Boy,The:A Foster Child's Search for the Love of a Family\", \"Jamie's Ministry of Food:Anyone Can Learn to Cook in 24 Hours\"]\n"
     ]
    }
   ],
   "source": [
    "Brand_tags=driver.find_elements(By.XPATH,\"/html/body/div/div[2]/div[2]/div/div[2]/div/table/tbody/tr/td[2]\")\n",
    "for i in  Brand_tags:\n",
    "        Brand=i.text\n",
    "        Book_name.append(Brand)\n",
    "print(len(Book_name),Book_name)"
   ]
  },
  {
   "cell_type": "code",
   "execution_count": 18,
   "id": "b6b5d472",
   "metadata": {},
   "outputs": [
    {
     "name": "stdout",
     "output_type": "stream",
     "text": [
      "100 ['Brown, Dan', 'Rowling, J.K.', 'Rowling, J.K.', 'Rowling, J.K.', 'James, E. L.', 'Rowling, J.K.', 'Rowling, J.K.', 'Rowling, J.K.', 'Brown, Dan', 'Rowling, J.K.', 'James, E. L.', 'Meyer, Stephenie', 'Larsson, Stieg', 'James, E. L.', 'Brown, Dan', 'Meyer, Stephenie', 'Brown, Dan', 'Meyer, Stephenie', 'Sebold, Alice', 'Haddon, Mark', 'Brown, Dan', 'Bryson, Bill', 'Larsson, Stieg', 'Meyer, Stephenie', 'Carle, Eric', 'Donaldson, Julia', 'Oliver, Jamie', 'Hosseini, Khaled', 'Nicholls, David', 'Hosseini, Khaled', 'Larsson, Stieg', 'Niffenegger, Audrey', 'McEwan, Ian', 'Fielding, Helen', 'Clarkson, Jeremy', 'Bernieres, Louis de', 'Kay, Peter', 'Martel, Yann', 'Stephenson, Pamela', 'Pelzer, Dave', 'Donaldson, Julia', 'McCourt, Frank', 'Faulks, Sebastian', 'Pullman, Philip', 'Mosse, Kate', 'Rowling, J.K.', 'Stockett, Kathryn', 'Parsons, Tony', 'Golden, Arthur', 'McCall Smith, Alexander', 'Hislop, Victoria', 'Ahern, Cecelia', 'McKeith, Gillian', 'Zafon, Carlos Ruiz', 'Rowling, J.K.', 'Grisham, John', 'Atkins, Robert C.', 'Pullman, Philip', 'Truss, Lynne', 'Smith, Delia', 'Harris, Joanne', 'Boyne, John', 'Picoult, Jodi', 'Pullman, Philip', 'Lee, Harper', 'Gray, John', 'French, Dawn', 'Lewycka, Marina', 'Harris, Thomas', 'Tolkien, J. R. R.', 'Moore, Michael', 'Rubenfeld, Jed', 'Osbourne, Sharon', 'Coelho, Paulo', \"O'Grady, Paul\", 'Bryson, Bill', 'Oliver, Jamie', 'Fielding, Helen', 'Oliver, Jamie', 'McKenna, Paul', 'Bryson, Bill', 'Grisham, John', 'Levy, Andrea', 'Lawson, Nigella', 'Ali, Monica', 'Edwards, Kim', 'Donaldson, Julia', 'Hornby, Nick', 'Brand, Russell', 'Dawkins, Richard', '0', 'Smith, Zadie', 'Morton, Kate', 'Zusak, Markus', 'Binchy, Maeve', 'Harris, Robert', 'Oliver, Jamie', 'Collins, Suzanne', 'Pelzer, Dave', 'Oliver, Jamie']\n"
     ]
    }
   ],
   "source": [
    "Brand_tags=driver.find_elements(By.XPATH,\"/html/body/div/div[2]/div[2]/div/div[2]/div/table/tbody/tr/td[3]\")\n",
    "for i in  Brand_tags:\n",
    "        Brand=i.text\n",
    "        Author_name.append(Brand)\n",
    "print(len(Author_name),Author_name)"
   ]
  },
  {
   "cell_type": "code",
   "execution_count": 19,
   "id": "b3645a95",
   "metadata": {},
   "outputs": [
    {
     "name": "stdout",
     "output_type": "stream",
     "text": [
      "100 ['5,094,805', '4,475,152', '4,200,654', '4,179,479', '3,758,936', '3,583,215', '3,484,047', '3,377,906', '3,193,946', '2,950,264', '2,479,784', '2,315,405', '2,233,570', '2,193,928', '2,183,031', '2,152,737', '2,062,145', '2,052,876', '2,005,598', '1,979,552', '1,928,900', '1,852,919', '1,814,784', '1,787,118', '1,783,535', '1,781,269', '1,743,266', '1,629,119', '1,616,068', '1,583,992', '1,555,135', '1,546,886', '1,539,428', '1,508,205', '1,489,403', '1,352,318', '1,310,207', '1,310,176', '1,231,957', '1,217,712', '1,208,711', '1,204,058', '1,184,967', '1,181,503', '1,181,093', '1,153,181', '1,132,336', '1,130,802', '1,126,337', '1,115,549', '1,108,328', '1,107,379', '1,104,403', '1,092,349', '1,090,847', '1,087,262', '1,054,196', '1,037,160', '1,023,688', '1,015,956', '1,009,873', '1,004,414', '1,003,780', '1,002,314', '998,213', '992,846', '986,753', '986,115', '970,509', '967,466', '963,353', '962,515', '959,496', '956,114', '945,640', '931,312', '925,425', '924,695', '906,968', '905,086', '890,847', '869,671', '869,659', '862,602', '856,540', '845,858', '842,535', '828,215', '820,563', '816,907', '816,585', '815,586', '814,370', '809,641', '808,900', '807,311', '794,201', '792,187', '791,507', '791,095']\n"
     ]
    }
   ],
   "source": [
    "Brand_tags=driver.find_elements(By.XPATH,\"/html/body/div/div[2]/div[2]/div/div[2]/div/table/tbody/tr/td[4]\")\n",
    "for i in  Brand_tags:\n",
    "        Brand=i.text\n",
    "        Volumes_sold.append(Brand)\n",
    "print(len(Volumes_sold),Volumes_sold)"
   ]
  },
  {
   "cell_type": "code",
   "execution_count": 20,
   "id": "94cc0ef7",
   "metadata": {},
   "outputs": [
    {
     "name": "stdout",
     "output_type": "stream",
     "text": [
      "100 ['Transworld', 'Bloomsbury', 'Bloomsbury', 'Bloomsbury', 'Random House', 'Bloomsbury', 'Bloomsbury', 'Bloomsbury', 'Transworld', 'Bloomsbury', 'Random House', 'Little, Brown Book', 'Quercus', 'Random House', 'Transworld', 'Little, Brown Book', 'Transworld', 'Little, Brown Book', 'Pan Macmillan', 'Random House', 'Transworld', 'Transworld', 'Quercus', 'Little, Brown Book', 'Penguin', 'Pan Macmillan', 'Penguin', 'Bloomsbury', 'Hodder & Stoughton', 'Bloomsbury', 'Quercus', 'Random House', 'Random House', 'Pan Macmillan', 'Penguin', 'Random House', 'Random House', 'Canongate', 'HarperCollins', 'Orion', 'Pan Macmillan', 'HarperCollins', 'Random House', 'Scholastic Ltd.', 'Orion', 'Bloomsbury', 'Penguin', 'HarperCollins', 'Random House', 'Little, Brown Book', 'Headline', 'HarperCollins', 'Penguin', 'Orion', 'Bloomsbury', 'Random House', 'Random House', 'Scholastic Ltd.', 'Profile Books Group', 'Random House', 'Transworld', 'Random House Childrens Books G', 'Hodder & Stoughton', 'Scholastic Ltd.', 'Random House', 'HarperCollins', 'Random House', 'Penguin', 'Random House', 'HarperCollins', 'Penguin', 'Headline', 'Little, Brown Book', 'HarperCollins', 'Transworld', 'Transworld', 'Penguin', 'Pan Macmillan', 'Penguin', 'Transworld', 'Transworld', 'Random House', 'Headline', 'Random House', 'Transworld', 'Penguin', 'Pan Macmillan', 'Penguin', 'Hodder & Stoughton', 'Transworld', 'D.C. Thomson', 'Penguin', 'Pan Macmillan', 'Transworld', 'Orion', 'Random House', 'Penguin', 'Scholastic Ltd.', 'Orion', 'Penguin']\n"
     ]
    }
   ],
   "source": [
    "Brand_tags=driver.find_elements(By.XPATH,\"/html/body/div/div[2]/div[2]/div/div[2]/div/table/tbody/tr/td[5]\")\n",
    "for i in  Brand_tags:\n",
    "        Brand=i.text\n",
    "        Publisher.append(Brand)\n",
    "print(len(Publisher),Publisher)"
   ]
  },
  {
   "cell_type": "code",
   "execution_count": 21,
   "id": "1e1531a3",
   "metadata": {},
   "outputs": [
    {
     "name": "stdout",
     "output_type": "stream",
     "text": [
      "100 ['Crime, Thriller & Adventure', \"Children's Fiction\", \"Children's Fiction\", \"Children's Fiction\", 'Romance & Sagas', \"Children's Fiction\", \"Children's Fiction\", \"Children's Fiction\", 'Crime, Thriller & Adventure', \"Children's Fiction\", 'Romance & Sagas', 'Young Adult Fiction', 'Crime, Thriller & Adventure', 'Romance & Sagas', 'Crime, Thriller & Adventure', 'Young Adult Fiction', 'Crime, Thriller & Adventure', 'Young Adult Fiction', 'General & Literary Fiction', 'General & Literary Fiction', 'Crime, Thriller & Adventure', 'Popular Science', 'Crime, Thriller & Adventure', 'Young Adult Fiction', 'Picture Books', 'Picture Books', 'Food & Drink: General', 'General & Literary Fiction', 'General & Literary Fiction', 'General & Literary Fiction', 'Crime, Thriller & Adventure', 'General & Literary Fiction', 'General & Literary Fiction', 'General & Literary Fiction', 'Humour: Collections & General', 'General & Literary Fiction', 'Autobiography: General', 'General & Literary Fiction', 'Biography: The Arts', 'Autobiography: General', 'Picture Books', 'Autobiography: General', 'General & Literary Fiction', 'Young Adult Fiction', 'General & Literary Fiction', 'Science Fiction & Fantasy', 'General & Literary Fiction', 'General & Literary Fiction', 'General & Literary Fiction', 'Crime, Thriller & Adventure', 'General & Literary Fiction', 'General & Literary Fiction', 'Fitness & Diet', 'General & Literary Fiction', \"Children's Fiction\", 'Crime, Thriller & Adventure', 'Fitness & Diet', 'Young Adult Fiction', 'Usage & Writing Guides', 'Food & Drink: General', 'General & Literary Fiction', 'Young Adult Fiction', 'General & Literary Fiction', 'Young Adult Fiction', 'General & Literary Fiction', 'Popular Culture & Media: General Interest', 'Autobiography: The Arts', 'General & Literary Fiction', 'Crime, Thriller & Adventure', 'Science Fiction & Fantasy', 'Current Affairs & Issues', 'Crime, Thriller & Adventure', 'Autobiography: The Arts', 'General & Literary Fiction', 'Autobiography: The Arts', 'Travel Writing', 'Food & Drink: General', 'General & Literary Fiction', 'National & Regional Cuisine', 'Fitness & Diet', 'Travel Writing', 'Crime, Thriller & Adventure', 'General & Literary Fiction', 'Food & Drink: General', 'General & Literary Fiction', 'General & Literary Fiction', 'Picture Books', 'General & Literary Fiction', 'Autobiography: The Arts', 'Popular Science', \"Children's Annuals\", 'General & Literary Fiction', 'General & Literary Fiction', 'General & Literary Fiction', 'General & Literary Fiction', 'General & Literary Fiction', 'Food & Drink: General', 'Young Adult Fiction', 'Biography: General', 'Food & Drink: General']\n"
     ]
    }
   ],
   "source": [
    "Brand_tags=driver.find_elements(By.XPATH,\"/html/body/div/div[2]/div[2]/div/div[2]/div/table/tbody/tr/td[6]\")\n",
    "for i in  Brand_tags:\n",
    "        Brand=i.text\n",
    "        Genre.append(Brand)\n",
    "print(len(Genre),Genre)"
   ]
  },
  {
   "cell_type": "code",
   "execution_count": 34,
   "id": "7acf9bd2",
   "metadata": {},
   "outputs": [],
   "source": [
    "driver.quit()"
   ]
  },
  {
   "cell_type": "markdown",
   "id": "2db2e5f5",
   "metadata": {},
   "source": [
    "7. Scrape the details most watched tv series of all time from imdb.com.\n",
    "Url = https://www.imdb.com/list/ls095964455/ You have to find the following details:\n",
    "A) Name\n",
    "B) Year span\n",
    "C) Genre\n",
    "D) Run time\n",
    "E) Ratings\n",
    "F) Votes"
   ]
  },
  {
   "cell_type": "code",
   "execution_count": 17,
   "id": "b6bdf0c5",
   "metadata": {},
   "outputs": [],
   "source": [
    "import selenium\n",
    "\n",
    "from selenium import webdriver\n",
    "from selenium.webdriver.chrome.options import Options\n",
    "chrome_options=Options()\n",
    "chrome_options.add_argument(\"--incognito\")"
   ]
  },
  {
   "cell_type": "code",
   "execution_count": 18,
   "id": "821e0b79",
   "metadata": {},
   "outputs": [],
   "source": [
    "driver=webdriver.Chrome()"
   ]
  },
  {
   "cell_type": "code",
   "execution_count": 19,
   "id": "c96ee3a1",
   "metadata": {},
   "outputs": [],
   "source": [
    "video_url = \"https://www.imdb.com/list/ls095964455/\"  \n",
    "driver.get(video_url)"
   ]
  },
  {
   "cell_type": "code",
   "execution_count": 9,
   "id": "67c879fe",
   "metadata": {},
   "outputs": [],
   "source": [
    "Name=[]\n",
    "Year_span=[]\n",
    "Genres=[]\n",
    "Run_time=[]\n",
    "Ratings=[]\n",
    "Votes=[]\n"
   ]
  },
  {
   "cell_type": "code",
   "execution_count": null,
   "id": "78f3f95e",
   "metadata": {},
   "outputs": [],
   "source": [
    "Brand_tags=driver.find_elements(By.XPATH,\"//div[@class='lister-item-content']/h3/a\")\n",
    "for i in  Brand_tags:\n",
    "        Brand=i.text\n",
    "        Year_span.append(Brand)\n",
    "print(len(Year_span),Year_span)"
   ]
  },
  {
   "cell_type": "code",
   "execution_count": null,
   "id": "a1c432ee",
   "metadata": {},
   "outputs": [],
   "source": [
    "Brand_tags=driver.find_elements(By.XPATH,\"//div[@class='lister-item-content']/h3/a\")\n",
    "for i in  Brand_tags:\n",
    "        Brand=i.text\n",
    "        Name.append(Brand)\n",
    "print(len(Name),Name)"
   ]
  },
  {
   "cell_type": "code",
   "execution_count": null,
   "id": "0e7338e7",
   "metadata": {},
   "outputs": [],
   "source": [
    "Brand_tags=driver.find_elements(By.XPATH,\"//p[@class='text-muted text-small']/span[5]\")\n",
    "for i in  Brand_tags:\n",
    "        Brand=i.text\n",
    "        Genres.append(Brand)\n",
    "print(len(Genres),Genres)"
   ]
  },
  {
   "cell_type": "code",
   "execution_count": null,
   "id": "1de3685e",
   "metadata": {},
   "outputs": [],
   "source": [
    "Brand_tags=driver.find_elements(By.XPATH,\"//p[@class='text-muted text-small']/span[3]\")\n",
    "for i in  Brand_tags:\n",
    "        Brand=i.text\n",
    "        Run_time.append(Brand)\n",
    "print(len(Run_time),Run_time)"
   ]
  },
  {
   "cell_type": "code",
   "execution_count": null,
   "id": "80e449a8",
   "metadata": {},
   "outputs": [],
   "source": [
    "Brand_tags=driver.find_elements(By.XPATH,\"//div[@class='ipl-rating-star small']/span[2]\")\n",
    "for i in  Brand_tags:\n",
    "        Brand=i.text\n",
    "        Ratings.append(Brand)\n",
    "print(len(Ratings),Ratings)"
   ]
  },
  {
   "cell_type": "code",
   "execution_count": null,
   "id": "0f10ad8f",
   "metadata": {},
   "outputs": [],
   "source": [
    "Brand_tags=driver.find_elements(By.XPATH,\"//div[@class='lister-item-content']/p[4]/span[2]\")\n",
    "for i in  Brand_tags:\n",
    "        Brand=i.text\n",
    "        Votes.append(Brand)\n",
    "print(len(Votes),Votes)"
   ]
  },
  {
   "cell_type": "code",
   "execution_count": null,
   "id": "6eea0a2b",
   "metadata": {},
   "outputs": [],
   "source": [
    "driver.quit()"
   ]
  },
  {
   "cell_type": "code",
   "execution_count": null,
   "id": "4286fbed",
   "metadata": {},
   "outputs": [],
   "source": [
    "8. Details of Datasets from UCI machine learning repositories.\n",
    "Url = https://archive.ics.uci.edu/ You have to find the following details:\n",
    "A) Dataset name\n",
    "B) Data type\n",
    "C) Task\n",
    "D) Attribute type\n",
    "E) No of instances\n",
    "F) No of attribute G) Year\n",
    "Note: - from the home page you have to go to the Show All Dataset page through code.\n",
    "ASSIGNMENT"
   ]
  },
  {
   "cell_type": "code",
   "execution_count": 29,
   "id": "7f9f29ac",
   "metadata": {},
   "outputs": [],
   "source": [
    "driver=webdriver.Chrome()"
   ]
  },
  {
   "cell_type": "code",
   "execution_count": 30,
   "id": "cc89e746",
   "metadata": {},
   "outputs": [],
   "source": [
    "video_url = 'https://archive.ics.uci.edu/'  \n",
    "driver.get(video_url)"
   ]
  },
  {
   "cell_type": "code",
   "execution_count": 31,
   "id": "96409684",
   "metadata": {},
   "outputs": [],
   "source": [
    "search_1 = driver.find_element(By.XPATH,'/html/body/div/div[1]/div[1]/main/div/div[1]/div/div/div/a[1]')\n",
    "search_1.click()"
   ]
  },
  {
   "cell_type": "code",
   "execution_count": 32,
   "id": "d262aac9",
   "metadata": {},
   "outputs": [],
   "source": [
    "Dataset_Name=[]\n",
    "Data_Type=[]\n",
    "Task=[]\n",
    "Attribute_Type=[]\n",
    "No_of_Instances=[]\n",
    "No_of_Attribute=[]\n",
    "Year=[]"
   ]
  },
  {
   "cell_type": "code",
   "execution_count": 33,
   "id": "ab65ef18",
   "metadata": {},
   "outputs": [],
   "source": [
    "search_1 = driver.find_element(By.XPATH,'/html/body/div/div[1]/div[1]/main/div/div[2]/div[1]/div/label[2]/div[2]/span[2]')\n",
    "search_1.click()\n"
   ]
  },
  {
   "cell_type": "code",
   "execution_count": null,
   "id": "986606a4",
   "metadata": {},
   "outputs": [],
   "source": []
  },
  {
   "cell_type": "code",
   "execution_count": 47,
   "id": "ed51343f",
   "metadata": {},
   "outputs": [
    {
     "name": "stdout",
     "output_type": "stream",
     "text": [
      "10 ['Iris', 'Dry Bean Dataset', 'Rice (Cammeo and Osmancik)', 'Heart Disease', 'Adult', 'Wine', 'Breast Cancer Wisconsin (Diagnostic)', 'Diabetes', 'Wine Quality', 'Car Evaluation']\n"
     ]
    }
   ],
   "source": [
    "Brand_tags=driver.find_elements(By.XPATH,'//a[@class=\"link-hover link text-xl font-semibold\"]')\n",
    "for i in  Brand_tags:\n",
    "        Brand=i.text\n",
    "        Dataset_Name.append(Brand)\n",
    "print(len(Dataset_Name),Dataset_Name)"
   ]
  },
  {
   "cell_type": "code",
   "execution_count": 49,
   "id": "9f225b70",
   "metadata": {},
   "outputs": [
    {
     "name": "stdout",
     "output_type": "stream",
     "text": [
      "10 ['Tabular', 'Multivariate', 'Multivariate', 'Multivariate', 'Multivariate', 'Tabular', 'Multivariate', 'Multivariate, Time-Series', 'Multivariate', 'Multivariate']\n"
     ]
    }
   ],
   "source": [
    "Brand_tags=driver.find_elements(By.XPATH,'//div[@class=\"my-2 hidden gap-4 md:grid grid-cols-12\"]/div[2]/span')\n",
    "for i in  Brand_tags:\n",
    "        Brand=i.text\n",
    "        Data_Type.append(Brand)\n",
    "print(len(Data_Type),Data_Type)"
   ]
  },
  {
   "cell_type": "code",
   "execution_count": 50,
   "id": "4ad4a7f6",
   "metadata": {},
   "outputs": [
    {
     "name": "stdout",
     "output_type": "stream",
     "text": [
      "10 ['Classification', 'Classification', 'Classification', 'Classification', 'Classification', 'Classification', 'Classification', 'Classification', 'Classification, Regression', 'Classification']\n"
     ]
    }
   ],
   "source": [
    "Brand_tags=driver.find_elements(By.XPATH,'//div[@class=\"my-2 hidden gap-4 md:grid grid-cols-12\"]/div[1]/span')\n",
    "for i in  Brand_tags:\n",
    "        Brand=i.text\n",
    "        Task.append(Brand)\n",
    "print(len(Task),Task)"
   ]
  },
  {
   "cell_type": "code",
   "execution_count": 34,
   "id": "21fb92d6",
   "metadata": {},
   "outputs": [
    {
     "name": "stdout",
     "output_type": "stream",
     "text": [
      "10 ['4 Features', '16 Features', '7 Features', '13 Features', '14 Features', '13 Features', '30 Features', '20 Features', '12 Features', '6 Features']\n"
     ]
    }
   ],
   "source": [
    "Brand_tags=driver.find_elements(By.XPATH,'//div[@class=\"my-2 hidden gap-4 md:grid grid-cols-12\"]/div[4]/span')\n",
    "for i in  Brand_tags:\n",
    "        Brand=i.text\n",
    "        Attribute_Type.append(Brand)\n",
    "print(len(Attribute_Type),Attribute_Type)"
   ]
  },
  {
   "cell_type": "code",
   "execution_count": 36,
   "id": "fbf5e155",
   "metadata": {},
   "outputs": [
    {
     "name": "stdout",
     "output_type": "stream",
     "text": [
      "20 ['4 Features', '16 Features', '7 Features', '13 Features', '14 Features', '13 Features', '30 Features', '20 Features', '12 Features', '6 Features', 'Real', 'Integer, Real', 'Real', 'Categorical, Integer, Real', 'Categorical, Integer', 'Integer, Real', 'Real', 'Categorical, Integer', 'Real', 'Categorical']\n"
     ]
    }
   ],
   "source": [
    "Brand_tags=driver.find_elements(By.XPATH,'//div[@class=\"grid grid-cols-8 overflow-x-auto\"]/table/tbody/tr/td[2]')\n",
    "for i in  Brand_tags:\n",
    "        Brand=i.text\n",
    "        Attribute_Type.append(Brand)\n",
    "print(len(Attribute_Type),Attribute_Type)\n"
   ]
  },
  {
   "cell_type": "code",
   "execution_count": 58,
   "id": "0516cc8b",
   "metadata": {},
   "outputs": [
    {
     "name": "stdout",
     "output_type": "stream",
     "text": [
      "10 ['150 Instances', '13.61K Instances', '3.81K Instances', '303 Instances', '48.84K Instances', '178 Instances', '569 Instances', '1 Instances', '4.9K Instances', '1.73K Instances']\n"
     ]
    }
   ],
   "source": [
    "Brand_tags=driver.find_elements(By.XPATH,'//div[@class=\"my-2 hidden gap-4 md:grid grid-cols-12\"]/div[3]/span')\n",
    "for i in  Brand_tags:\n",
    "        Brand=i.text\n",
    "        No_of_Instances.append(Brand)\n",
    "print(len(No_of_Instances),No_of_Instances)"
   ]
  },
  {
   "cell_type": "code",
   "execution_count": 56,
   "id": "3fcb51d5",
   "metadata": {},
   "outputs": [
    {
     "name": "stdout",
     "output_type": "stream",
     "text": [
      "20 ['https://archive.ics.uci.edu/dataset/53/iris', 'https://archive.ics.uci.edu/dataset/602/dry+bean+dataset', 'https://archive.ics.uci.edu/dataset/545/rice+cammeo+and+osmancik', 'https://archive.ics.uci.edu/dataset/45/heart+disease', 'https://archive.ics.uci.edu/dataset/2/adult', 'https://archive.ics.uci.edu/dataset/109/wine', 'https://archive.ics.uci.edu/dataset/17/breast+cancer+wisconsin+diagnostic', 'https://archive.ics.uci.edu/dataset/34/diabetes', 'https://archive.ics.uci.edu/dataset/186/wine+quality', 'https://archive.ics.uci.edu/dataset/19/car+evaluation', 'https://archive.ics.uci.edu/dataset/53/iris', 'https://archive.ics.uci.edu/dataset/602/dry+bean+dataset', 'https://archive.ics.uci.edu/dataset/545/rice+cammeo+and+osmancik', 'https://archive.ics.uci.edu/dataset/45/heart+disease', 'https://archive.ics.uci.edu/dataset/2/adult', 'https://archive.ics.uci.edu/dataset/109/wine', 'https://archive.ics.uci.edu/dataset/17/breast+cancer+wisconsin+diagnostic', 'https://archive.ics.uci.edu/dataset/34/diabetes', 'https://archive.ics.uci.edu/dataset/186/wine+quality', 'https://archive.ics.uci.edu/dataset/19/car+evaluation']\n"
     ]
    }
   ],
   "source": [
    "Product_tags=driver.find_elements(By.XPATH,'//a[@class=\"link-hover link text-xl font-semibold\"]')\n",
    "for i in Product_tags:\n",
    "    \n",
    "    Year.append(i.get_attribute('href'))     \n",
    "print(len( Year), Year)    "
   ]
  },
  {
   "cell_type": "code",
   "execution_count": null,
   "id": "2214ac37",
   "metadata": {},
   "outputs": [],
   "source": [
    "Brand_tags=driver.find_elements(By.XPATH,\"\")\n",
    "for i in  Brand_tags:\n",
    "        Brand=i.text\n",
    "        No_of_Attribute.append(Brand)\n",
    "print(len(No_of_Attribute),No_of_Attribute)"
   ]
  },
  {
   "cell_type": "code",
   "execution_count": null,
   "id": "0783243f",
   "metadata": {},
   "outputs": [],
   "source": []
  },
  {
   "cell_type": "code",
   "execution_count": null,
   "id": "a38f38db",
   "metadata": {},
   "outputs": [],
   "source": []
  }
 ],
 "metadata": {
  "kernelspec": {
   "display_name": "Python 3 (ipykernel)",
   "language": "python",
   "name": "python3"
  },
  "language_info": {
   "codemirror_mode": {
    "name": "ipython",
    "version": 3
   },
   "file_extension": ".py",
   "mimetype": "text/x-python",
   "name": "python",
   "nbconvert_exporter": "python",
   "pygments_lexer": "ipython3",
   "version": "3.10.9"
  }
 },
 "nbformat": 4,
 "nbformat_minor": 5
}
